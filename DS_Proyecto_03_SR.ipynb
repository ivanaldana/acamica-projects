{
 "cells": [
  {
   "cell_type": "markdown",
   "metadata": {
    "id": "gzJLet17WTzh"
   },
   "source": [
    "# Proyecto 03 - Sistemas de Recomendación - Ivan Aldana\n",
    "\n",
    "Link al project en GitHub:\n",
    "https://github.com/ivanaldana/acamica-projects\n",
    "\n",
    "\n",
    "## Dataset: STEAM\n",
    "\n",
    "**Recuerda descargar el dataset de [aquí](https://github.com/kang205/SASRec). Son dos archivos, uno de calificaciones y otro de información sobre los juegos.**\n",
    "\n",
    "En este notebook te dejamos unas celdas para que puedas comenzar a trabajar con este dataset. Sin embargo, **deberás** modificarlas para hacer un mejor manejo de datos. Algunas cosas a las que deberás prestar atención (tal vez no a todas):\n",
    "1. Tipos de datos: elige tipos de datos apropiados para cada columna.\n",
    "2. Descartar columnas poco informativas.\n",
    "3. Guardar en memoria datasets preprocesados para no tener que repetir código que tarde en correr.\n",
    "\n",
    "### Exploración de datos\n",
    "\n",
    "Dedícale un buen tiempo a hacer un Análisis Exploratorio de Datos. Elige preguntas que creas que puedas responder con este dataset. Por ejemplo, ¿cuáles son los juegos más populares?¿Y los menos populares?\n",
    "\n",
    "### Filtro Colaborativo\n",
    "\n",
    "Deberás implementar un sistema de recomendación colaborativo para este dataset. Ten en cuenta:\n",
    "\n",
    "1. Haz todas las transformaciones de datos que consideres necesarias. Justifica.\n",
    "1. Evalúa de forma apropiada sus resultados. Justifica la métrica elegida.\n",
    "1. Elige un modelo benchmark y compara tus resultados con este modelo.\n",
    "1. Optimiza los hiperparámetros de tu modelo.\n",
    "\n",
    "Puedes implementar un filtro colaborativo a partir de la similitud coseno o índice de Jaccard. ¿Puedes utilizar los métodos de la librería Surprise? Si no es así, busca implementaciones (por ejemplo, nuevas librerías) que sean apropiadas.\n",
    "\n",
    "Para comenzar a trabajar, puedes asumir que cada entrada es un enlace entre una persona usuaria y un item, **independientemente** de si la crítica es buena o mala. \n",
    "\n",
    "### Para pensar, investigar y, opcionalmente, implementar\n",
    "1. ¿Cómo harías para ponerle un valor a la calificación?\n",
    "1. ¿Cómo harías para agregar contenido? Por ejemplo, cuentas con el género, precio, fecha de lanzamiento y más información de los juegos.\n",
    "1. ¿Hay algo que te gustaría investigar o probar?\n",
    "\n",
    "### **¡Tómate tiempo para investigar y leer mucho!**"
   ]
  },
  {
   "cell_type": "code",
   "execution_count": 6,
   "metadata": {},
   "outputs": [],
   "source": [
    "import gzip\n",
    "import pandas as pd\n",
    "import seaborn as sns\n",
    "import matplotlib.pyplot as plt\n",
    "import numpy as np\n",
    "from tqdm import tqdm\n",
    "\n",
    "\n",
    "\n",
    "from surprise import Dataset\n",
    "from surprise import Reader\n",
    "from surprise.model_selection import train_test_split\n",
    "from surprise import SVD\n",
    "import warnings \n",
    "warnings.filterwarnings('ignore')"
   ]
  },
  {
   "cell_type": "code",
   "execution_count": 4,
   "metadata": {
    "id": "lWZhtUxEWTzj"
   },
   "outputs": [],
   "source": [
    "def parse(path):\n",
    "    g = gzip.open(path, 'r')\n",
    "    for l in g:\n",
    "        yield eval(l)"
   ]
  },
  {
   "cell_type": "markdown",
   "metadata": {
    "id": "BmEM25k4WTzw"
   },
   "source": [
    "**Reviews**"
   ]
  },
  {
   "cell_type": "code",
   "execution_count": 5,
   "metadata": {
    "id": "abAXItn1WTz0"
   },
   "outputs": [],
   "source": [
    "contador = 0\n",
    "data_reviews = []\n",
    "# Vamos a guardar una de cada 10 reviews para no llenar la memoria RAM. Si pones n = 3, \n",
    "# abrira uno de cada tres, y asi.\n",
    "# dado que ya estamos en una fase mas avanzada, tomaremos todos los datos, o sea n = 1\n",
    "n = 1\n",
    "for l in parse('steam_reviews.json.gz'):\n",
    "    if contador%n == 0:\n",
    "        data_reviews.append(l)\n",
    "    else:\n",
    "        pass\n",
    "    contador += 1\n"
   ]
  },
  {
   "cell_type": "markdown",
   "metadata": {},
   "source": [
    "convertimos el arreglo en dataframe"
   ]
  },
  {
   "cell_type": "code",
   "execution_count": 7,
   "metadata": {
    "id": "7GovAZQBWTz8"
   },
   "outputs": [],
   "source": [
    "data_reviews = pd.DataFrame(data_reviews)"
   ]
  },
  {
   "cell_type": "markdown",
   "metadata": {},
   "source": [
    "# Analisis de Datos"
   ]
  },
  {
   "cell_type": "code",
   "execution_count": 10,
   "metadata": {
    "id": "j24F0ZaYWT0E",
    "scrolled": true
   },
   "outputs": [
    {
     "name": "stdout",
     "output_type": "stream",
     "text": [
      "El dataset contiene  7793069 filas y  12 columnas\n"
     ]
    }
   ],
   "source": [
    "#data_reviews.loc[data_reviews.hours==28164.000000]\n",
    "print('El dataset contiene ',data_reviews.shape[0],'filas y ',data_reviews.shape[1],'columnas')"
   ]
  },
  {
   "cell_type": "code",
   "execution_count": 8,
   "metadata": {},
   "outputs": [
    {
     "data": {
      "text/html": [
       "<div>\n",
       "<style scoped>\n",
       "    .dataframe tbody tr th:only-of-type {\n",
       "        vertical-align: middle;\n",
       "    }\n",
       "\n",
       "    .dataframe tbody tr th {\n",
       "        vertical-align: top;\n",
       "    }\n",
       "\n",
       "    .dataframe thead th {\n",
       "        text-align: right;\n",
       "    }\n",
       "</style>\n",
       "<table border=\"1\" class=\"dataframe\">\n",
       "  <thead>\n",
       "    <tr style=\"text-align: right;\">\n",
       "      <th></th>\n",
       "      <th>username</th>\n",
       "      <th>hours</th>\n",
       "      <th>products</th>\n",
       "      <th>product_id</th>\n",
       "      <th>page_order</th>\n",
       "      <th>date</th>\n",
       "      <th>text</th>\n",
       "      <th>early_access</th>\n",
       "      <th>page</th>\n",
       "      <th>found_funny</th>\n",
       "      <th>compensation</th>\n",
       "      <th>user_id</th>\n",
       "    </tr>\n",
       "  </thead>\n",
       "  <tbody>\n",
       "    <tr>\n",
       "      <th>0</th>\n",
       "      <td>Chaos Syren</td>\n",
       "      <td>0.1</td>\n",
       "      <td>41.0</td>\n",
       "      <td>725280</td>\n",
       "      <td>0</td>\n",
       "      <td>2017-12-17</td>\n",
       "      <td>This would not be acceptable as an entertainme...</td>\n",
       "      <td>False</td>\n",
       "      <td>1</td>\n",
       "      <td>NaN</td>\n",
       "      <td>NaN</td>\n",
       "      <td>NaN</td>\n",
       "    </tr>\n",
       "    <tr>\n",
       "      <th>1</th>\n",
       "      <td>₮ʜᴇ Wᴀʀᴛᴏɴ</td>\n",
       "      <td>51.1</td>\n",
       "      <td>769.0</td>\n",
       "      <td>328100</td>\n",
       "      <td>0</td>\n",
       "      <td>2017-12-27</td>\n",
       "      <td>looks like a facebook game</td>\n",
       "      <td>False</td>\n",
       "      <td>1</td>\n",
       "      <td>NaN</td>\n",
       "      <td>NaN</td>\n",
       "      <td>NaN</td>\n",
       "    </tr>\n",
       "    <tr>\n",
       "      <th>2</th>\n",
       "      <td>hello?&lt;</td>\n",
       "      <td>14.6</td>\n",
       "      <td>2.0</td>\n",
       "      <td>328100</td>\n",
       "      <td>1</td>\n",
       "      <td>2017-10-16</td>\n",
       "      <td>Better than Minecraft</td>\n",
       "      <td>False</td>\n",
       "      <td>1</td>\n",
       "      <td>2.0</td>\n",
       "      <td>Product received for free</td>\n",
       "      <td>NaN</td>\n",
       "    </tr>\n",
       "    <tr>\n",
       "      <th>3</th>\n",
       "      <td>Cyderine916</td>\n",
       "      <td>5.0</td>\n",
       "      <td>64.0</td>\n",
       "      <td>35140</td>\n",
       "      <td>0</td>\n",
       "      <td>2018-01-04</td>\n",
       "      <td>I love and idolized Batman and this game is Ma...</td>\n",
       "      <td>False</td>\n",
       "      <td>1</td>\n",
       "      <td>NaN</td>\n",
       "      <td>NaN</td>\n",
       "      <td>NaN</td>\n",
       "    </tr>\n",
       "    <tr>\n",
       "      <th>4</th>\n",
       "      <td>DarklyThinking</td>\n",
       "      <td>16.6</td>\n",
       "      <td>577.0</td>\n",
       "      <td>35140</td>\n",
       "      <td>1</td>\n",
       "      <td>2018-01-04</td>\n",
       "      <td>Still worth playing in 2018.\\nProbably my favo...</td>\n",
       "      <td>False</td>\n",
       "      <td>1</td>\n",
       "      <td>NaN</td>\n",
       "      <td>NaN</td>\n",
       "      <td>76561198007483075</td>\n",
       "    </tr>\n",
       "  </tbody>\n",
       "</table>\n",
       "</div>"
      ],
      "text/plain": [
       "         username  hours  products product_id  page_order        date  \\\n",
       "0     Chaos Syren    0.1      41.0     725280           0  2017-12-17   \n",
       "1      ₮ʜᴇ Wᴀʀᴛᴏɴ   51.1     769.0     328100           0  2017-12-27   \n",
       "2         hello?<   14.6       2.0     328100           1  2017-10-16   \n",
       "3     Cyderine916    5.0      64.0      35140           0  2018-01-04   \n",
       "4  DarklyThinking   16.6     577.0      35140           1  2018-01-04   \n",
       "\n",
       "                                                text  early_access  page  \\\n",
       "0  This would not be acceptable as an entertainme...         False     1   \n",
       "1                         looks like a facebook game         False     1   \n",
       "2                              Better than Minecraft         False     1   \n",
       "3  I love and idolized Batman and this game is Ma...         False     1   \n",
       "4  Still worth playing in 2018.\\nProbably my favo...         False     1   \n",
       "\n",
       "   found_funny               compensation            user_id  \n",
       "0          NaN                        NaN                NaN  \n",
       "1          NaN                        NaN                NaN  \n",
       "2          2.0  Product received for free                NaN  \n",
       "3          NaN                        NaN                NaN  \n",
       "4          NaN                        NaN  76561198007483075  "
      ]
     },
     "execution_count": 8,
     "metadata": {},
     "output_type": "execute_result"
    }
   ],
   "source": [
    "data_reviews.head()"
   ]
  },
  {
   "cell_type": "markdown",
   "metadata": {},
   "source": [
    "Analisis de valores nulos"
   ]
  },
  {
   "cell_type": "code",
   "execution_count": 12,
   "metadata": {},
   "outputs": [
    {
     "name": "stdout",
     "output_type": "stream",
     "text": [
      "Cantidad de Nulls por cada columna\n"
     ]
    },
    {
     "data": {
      "text/html": [
       "<div>\n",
       "<style scoped>\n",
       "    .dataframe tbody tr th:only-of-type {\n",
       "        vertical-align: middle;\n",
       "    }\n",
       "\n",
       "    .dataframe tbody tr th {\n",
       "        vertical-align: top;\n",
       "    }\n",
       "\n",
       "    .dataframe thead th {\n",
       "        text-align: right;\n",
       "    }\n",
       "</style>\n",
       "<table border=\"1\" class=\"dataframe\">\n",
       "  <thead>\n",
       "    <tr style=\"text-align: right;\">\n",
       "      <th></th>\n",
       "      <th>Columna</th>\n",
       "      <th>Faltantes</th>\n",
       "    </tr>\n",
       "  </thead>\n",
       "  <tbody>\n",
       "    <tr>\n",
       "      <th>1</th>\n",
       "      <td>hours</td>\n",
       "      <td>26537</td>\n",
       "    </tr>\n",
       "    <tr>\n",
       "      <th>2</th>\n",
       "      <td>products</td>\n",
       "      <td>14961</td>\n",
       "    </tr>\n",
       "    <tr>\n",
       "      <th>9</th>\n",
       "      <td>found_funny</td>\n",
       "      <td>6592313</td>\n",
       "    </tr>\n",
       "    <tr>\n",
       "      <th>10</th>\n",
       "      <td>compensation</td>\n",
       "      <td>7647446</td>\n",
       "    </tr>\n",
       "    <tr>\n",
       "      <th>11</th>\n",
       "      <td>user_id</td>\n",
       "      <td>4616846</td>\n",
       "    </tr>\n",
       "  </tbody>\n",
       "</table>\n",
       "</div>"
      ],
      "text/plain": [
       "         Columna  Faltantes\n",
       "1          hours      26537\n",
       "2       products      14961\n",
       "9    found_funny    6592313\n",
       "10  compensation    7647446\n",
       "11       user_id    4616846"
      ]
     },
     "execution_count": 12,
     "metadata": {},
     "output_type": "execute_result"
    }
   ],
   "source": [
    "#calculo de cada columna faltante\n",
    "print('Cantidad de Nulls por cada columna')\n",
    "null_df = pd.DataFrame(data_reviews.isna().sum(),columns=['Faltantes'])\n",
    "null_df['Columna'] = null_df.index\n",
    "null_df.reset_index(drop=True, inplace=True)\n",
    "null_df.loc[null_df['Faltantes']>0,['Columna','Faltantes']].head(200)"
   ]
  },
  {
   "cell_type": "markdown",
   "metadata": {},
   "source": [
    "Dado que en steam el valor real de usuario unico es **user_id**, no asi **username**, el cual puede repetirse en distintos usuarios porque es solo un nomenclador,\n",
    "vamos a priorizar conservar este distintivo en el dataset, sobrescribiendo este valor en la columna **username** para aquellos valores no nulos de **user_id**. Se puede observar que la columna **username** no posee valores nulos, intentaremos usar los valores de esta como segunda opcion de clave."
   ]
  },
  {
   "cell_type": "code",
   "execution_count": 14,
   "metadata": {},
   "outputs": [],
   "source": [
    "#Paso los user_id no nulos a la columna username para poder trabajar mas comodamente\n",
    "data_reviews.username.loc[data_reviews.user_id.isna()==False] = \"uid:\"+data_reviews.user_id.loc[data_reviews.user_id.isna()==False]"
   ]
  },
  {
   "cell_type": "code",
   "execution_count": 15,
   "metadata": {},
   "outputs": [],
   "source": [
    "#Me quedo con las columnas que mas me sirven\n",
    "data_reviews_filtrado = data_reviews[[\"username\",\"hours\",\"product_id\",\"text\"]]\n",
    "#Elimino los datos duplicados\n",
    "data_reviews_filtrado = data_reviews_filtrado.drop_duplicates()"
   ]
  },
  {
   "cell_type": "code",
   "execution_count": 16,
   "metadata": {},
   "outputs": [
    {
     "name": "stdout",
     "output_type": "stream",
     "text": [
      "cantidad de filas luego de la primer limpieza: 6961282\n"
     ]
    }
   ],
   "source": [
    "print('cantidad de filas luego de la primer limpieza:',data_reviews_filtrado.shape[0])"
   ]
  },
  {
   "cell_type": "code",
   "execution_count": 17,
   "metadata": {},
   "outputs": [],
   "source": [
    "#Guardo el dataframe para poder abrirlo en pasos posteriores, sin la necesidad de hacer el load y parse del archivo gz\n",
    "data_reviews_filtrado.to_csv('data_reviews_filtrado.csv', index= False)"
   ]
  },
  {
   "cell_type": "markdown",
   "metadata": {},
   "source": [
    "# CheckPoint 1"
   ]
  },
  {
   "cell_type": "markdown",
   "metadata": {},
   "source": [
    "Volvemos a importar todas las librerias que utilizaremos, el paso anterior de analisis y pre-cargado queda cerrado."
   ]
  },
  {
   "cell_type": "code",
   "execution_count": 19,
   "metadata": {},
   "outputs": [],
   "source": [
    "import gzip\n",
    "import pandas as pd\n",
    "import seaborn as sns\n",
    "import matplotlib.pyplot as plt\n",
    "import numpy as np\n",
    "from tqdm import tqdm\n",
    "\n",
    "\n",
    "\n",
    "from surprise import Dataset\n",
    "from surprise import Reader\n",
    "from surprise.model_selection import train_test_split\n",
    "from surprise import SVD\n",
    "import warnings \n",
    "warnings.filterwarnings('ignore')"
   ]
  },
  {
   "cell_type": "code",
   "execution_count": 20,
   "metadata": {},
   "outputs": [],
   "source": [
    "def parse(path):\n",
    "    g = gzip.open(path, 'r')\n",
    "    for l in g:\n",
    "        yield eval(l)"
   ]
  },
  {
   "cell_type": "code",
   "execution_count": 21,
   "metadata": {},
   "outputs": [],
   "source": [
    "data_reviews_filtrado = pd.read_csv('data_reviews_filtrado.csv')"
   ]
  },
  {
   "cell_type": "markdown",
   "metadata": {},
   "source": [
    "corroboramos si efectivamente esta combinacion esta duplicada."
   ]
  },
  {
   "cell_type": "markdown",
   "metadata": {
    "id": "04ed3teRWT0T"
   },
   "source": [
    "**Games**"
   ]
  },
  {
   "cell_type": "code",
   "execution_count": 22,
   "metadata": {
    "id": "8wRb24Y5WT0U"
   },
   "outputs": [],
   "source": [
    "data_games = []\n",
    "for l in parse('steam_games.json.gz'):\n",
    "    data_games.append(l)\n",
    "data_games = pd.DataFrame(data_games)"
   ]
  },
  {
   "cell_type": "code",
   "execution_count": 23,
   "metadata": {
    "id": "sVR0Cs6SWT0b"
   },
   "outputs": [
    {
     "data": {
      "text/html": [
       "<div>\n",
       "<style scoped>\n",
       "    .dataframe tbody tr th:only-of-type {\n",
       "        vertical-align: middle;\n",
       "    }\n",
       "\n",
       "    .dataframe tbody tr th {\n",
       "        vertical-align: top;\n",
       "    }\n",
       "\n",
       "    .dataframe thead th {\n",
       "        text-align: right;\n",
       "    }\n",
       "</style>\n",
       "<table border=\"1\" class=\"dataframe\">\n",
       "  <thead>\n",
       "    <tr style=\"text-align: right;\">\n",
       "      <th></th>\n",
       "      <th>publisher</th>\n",
       "      <th>genres</th>\n",
       "      <th>app_name</th>\n",
       "      <th>title</th>\n",
       "      <th>url</th>\n",
       "      <th>release_date</th>\n",
       "      <th>tags</th>\n",
       "      <th>discount_price</th>\n",
       "      <th>reviews_url</th>\n",
       "      <th>specs</th>\n",
       "      <th>price</th>\n",
       "      <th>early_access</th>\n",
       "      <th>id</th>\n",
       "      <th>developer</th>\n",
       "      <th>sentiment</th>\n",
       "      <th>metascore</th>\n",
       "    </tr>\n",
       "  </thead>\n",
       "  <tbody>\n",
       "    <tr>\n",
       "      <th>0</th>\n",
       "      <td>Kotoshiro</td>\n",
       "      <td>[Action, Casual, Indie, Simulation, Strategy]</td>\n",
       "      <td>Lost Summoner Kitty</td>\n",
       "      <td>Lost Summoner Kitty</td>\n",
       "      <td>http://store.steampowered.com/app/761140/Lost_...</td>\n",
       "      <td>2018-01-04</td>\n",
       "      <td>[Strategy, Action, Indie, Casual, Simulation]</td>\n",
       "      <td>4.49</td>\n",
       "      <td>http://steamcommunity.com/app/761140/reviews/?...</td>\n",
       "      <td>[Single-player]</td>\n",
       "      <td>4.99</td>\n",
       "      <td>False</td>\n",
       "      <td>761140</td>\n",
       "      <td>Kotoshiro</td>\n",
       "      <td>NaN</td>\n",
       "      <td>NaN</td>\n",
       "    </tr>\n",
       "    <tr>\n",
       "      <th>1</th>\n",
       "      <td>Making Fun, Inc.</td>\n",
       "      <td>[Free to Play, Indie, RPG, Strategy]</td>\n",
       "      <td>Ironbound</td>\n",
       "      <td>Ironbound</td>\n",
       "      <td>http://store.steampowered.com/app/643980/Ironb...</td>\n",
       "      <td>2018-01-04</td>\n",
       "      <td>[Free to Play, Strategy, Indie, RPG, Card Game...</td>\n",
       "      <td>NaN</td>\n",
       "      <td>http://steamcommunity.com/app/643980/reviews/?...</td>\n",
       "      <td>[Single-player, Multi-player, Online Multi-Pla...</td>\n",
       "      <td>Free To Play</td>\n",
       "      <td>False</td>\n",
       "      <td>643980</td>\n",
       "      <td>Secret Level SRL</td>\n",
       "      <td>Mostly Positive</td>\n",
       "      <td>NaN</td>\n",
       "    </tr>\n",
       "    <tr>\n",
       "      <th>2</th>\n",
       "      <td>Poolians.com</td>\n",
       "      <td>[Casual, Free to Play, Indie, Simulation, Sports]</td>\n",
       "      <td>Real Pool 3D - Poolians</td>\n",
       "      <td>Real Pool 3D - Poolians</td>\n",
       "      <td>http://store.steampowered.com/app/670290/Real_...</td>\n",
       "      <td>2017-07-24</td>\n",
       "      <td>[Free to Play, Simulation, Sports, Casual, Ind...</td>\n",
       "      <td>NaN</td>\n",
       "      <td>http://steamcommunity.com/app/670290/reviews/?...</td>\n",
       "      <td>[Single-player, Multi-player, Online Multi-Pla...</td>\n",
       "      <td>Free to Play</td>\n",
       "      <td>False</td>\n",
       "      <td>670290</td>\n",
       "      <td>Poolians.com</td>\n",
       "      <td>Mostly Positive</td>\n",
       "      <td>NaN</td>\n",
       "    </tr>\n",
       "    <tr>\n",
       "      <th>3</th>\n",
       "      <td>彼岸领域</td>\n",
       "      <td>[Action, Adventure, Casual]</td>\n",
       "      <td>弹炸人2222</td>\n",
       "      <td>弹炸人2222</td>\n",
       "      <td>http://store.steampowered.com/app/767400/2222/</td>\n",
       "      <td>2017-12-07</td>\n",
       "      <td>[Action, Adventure, Casual]</td>\n",
       "      <td>0.83</td>\n",
       "      <td>http://steamcommunity.com/app/767400/reviews/?...</td>\n",
       "      <td>[Single-player]</td>\n",
       "      <td>0.99</td>\n",
       "      <td>False</td>\n",
       "      <td>767400</td>\n",
       "      <td>彼岸领域</td>\n",
       "      <td>NaN</td>\n",
       "      <td>NaN</td>\n",
       "    </tr>\n",
       "    <tr>\n",
       "      <th>4</th>\n",
       "      <td>NaN</td>\n",
       "      <td>NaN</td>\n",
       "      <td>Log Challenge</td>\n",
       "      <td>NaN</td>\n",
       "      <td>http://store.steampowered.com/app/773570/Log_C...</td>\n",
       "      <td>NaN</td>\n",
       "      <td>[Action, Indie, Casual, Sports]</td>\n",
       "      <td>1.79</td>\n",
       "      <td>http://steamcommunity.com/app/773570/reviews/?...</td>\n",
       "      <td>[Single-player, Full controller support, HTC V...</td>\n",
       "      <td>2.99</td>\n",
       "      <td>False</td>\n",
       "      <td>773570</td>\n",
       "      <td>NaN</td>\n",
       "      <td>NaN</td>\n",
       "      <td>NaN</td>\n",
       "    </tr>\n",
       "  </tbody>\n",
       "</table>\n",
       "</div>"
      ],
      "text/plain": [
       "          publisher                                             genres  \\\n",
       "0         Kotoshiro      [Action, Casual, Indie, Simulation, Strategy]   \n",
       "1  Making Fun, Inc.               [Free to Play, Indie, RPG, Strategy]   \n",
       "2      Poolians.com  [Casual, Free to Play, Indie, Simulation, Sports]   \n",
       "3              彼岸领域                        [Action, Adventure, Casual]   \n",
       "4               NaN                                                NaN   \n",
       "\n",
       "                  app_name                    title  \\\n",
       "0      Lost Summoner Kitty      Lost Summoner Kitty   \n",
       "1                Ironbound                Ironbound   \n",
       "2  Real Pool 3D - Poolians  Real Pool 3D - Poolians   \n",
       "3                  弹炸人2222                  弹炸人2222   \n",
       "4            Log Challenge                      NaN   \n",
       "\n",
       "                                                 url release_date  \\\n",
       "0  http://store.steampowered.com/app/761140/Lost_...   2018-01-04   \n",
       "1  http://store.steampowered.com/app/643980/Ironb...   2018-01-04   \n",
       "2  http://store.steampowered.com/app/670290/Real_...   2017-07-24   \n",
       "3     http://store.steampowered.com/app/767400/2222/   2017-12-07   \n",
       "4  http://store.steampowered.com/app/773570/Log_C...          NaN   \n",
       "\n",
       "                                                tags  discount_price  \\\n",
       "0      [Strategy, Action, Indie, Casual, Simulation]            4.49   \n",
       "1  [Free to Play, Strategy, Indie, RPG, Card Game...             NaN   \n",
       "2  [Free to Play, Simulation, Sports, Casual, Ind...             NaN   \n",
       "3                        [Action, Adventure, Casual]            0.83   \n",
       "4                    [Action, Indie, Casual, Sports]            1.79   \n",
       "\n",
       "                                         reviews_url  \\\n",
       "0  http://steamcommunity.com/app/761140/reviews/?...   \n",
       "1  http://steamcommunity.com/app/643980/reviews/?...   \n",
       "2  http://steamcommunity.com/app/670290/reviews/?...   \n",
       "3  http://steamcommunity.com/app/767400/reviews/?...   \n",
       "4  http://steamcommunity.com/app/773570/reviews/?...   \n",
       "\n",
       "                                               specs         price  \\\n",
       "0                                    [Single-player]          4.99   \n",
       "1  [Single-player, Multi-player, Online Multi-Pla...  Free To Play   \n",
       "2  [Single-player, Multi-player, Online Multi-Pla...  Free to Play   \n",
       "3                                    [Single-player]          0.99   \n",
       "4  [Single-player, Full controller support, HTC V...          2.99   \n",
       "\n",
       "   early_access      id         developer        sentiment metascore  \n",
       "0         False  761140         Kotoshiro              NaN       NaN  \n",
       "1         False  643980  Secret Level SRL  Mostly Positive       NaN  \n",
       "2         False  670290      Poolians.com  Mostly Positive       NaN  \n",
       "3         False  767400              彼岸领域              NaN       NaN  \n",
       "4         False  773570               NaN              NaN       NaN  "
      ]
     },
     "execution_count": 23,
     "metadata": {},
     "output_type": "execute_result"
    }
   ],
   "source": [
    "data_games.head()"
   ]
  },
  {
   "cell_type": "code",
   "execution_count": 24,
   "metadata": {
    "id": "Bt5BLCw5WT0g",
    "scrolled": true
   },
   "outputs": [
    {
     "data": {
      "text/html": [
       "<div>\n",
       "<style scoped>\n",
       "    .dataframe tbody tr th:only-of-type {\n",
       "        vertical-align: middle;\n",
       "    }\n",
       "\n",
       "    .dataframe tbody tr th {\n",
       "        vertical-align: top;\n",
       "    }\n",
       "\n",
       "    .dataframe thead th {\n",
       "        text-align: right;\n",
       "    }\n",
       "</style>\n",
       "<table border=\"1\" class=\"dataframe\">\n",
       "  <thead>\n",
       "    <tr style=\"text-align: right;\">\n",
       "      <th></th>\n",
       "      <th>publisher</th>\n",
       "      <th>genres</th>\n",
       "      <th>app_name</th>\n",
       "      <th>title</th>\n",
       "      <th>url</th>\n",
       "      <th>release_date</th>\n",
       "      <th>tags</th>\n",
       "      <th>discount_price</th>\n",
       "      <th>reviews_url</th>\n",
       "      <th>specs</th>\n",
       "      <th>price</th>\n",
       "      <th>early_access</th>\n",
       "      <th>id</th>\n",
       "      <th>developer</th>\n",
       "      <th>sentiment</th>\n",
       "      <th>metascore</th>\n",
       "    </tr>\n",
       "  </thead>\n",
       "  <tbody>\n",
       "    <tr>\n",
       "      <th>28926</th>\n",
       "      <td>Trion Worlds, Inc.</td>\n",
       "      <td>[Action, Free to Play, Massively Multiplayer, ...</td>\n",
       "      <td>Defiance</td>\n",
       "      <td>Defiance</td>\n",
       "      <td>http://store.steampowered.com/app/224600/Defia...</td>\n",
       "      <td>2014-06-04</td>\n",
       "      <td>[Free to Play, Action, Open World, Massively M...</td>\n",
       "      <td>NaN</td>\n",
       "      <td>http://steamcommunity.com/app/224600/reviews/?...</td>\n",
       "      <td>[Multi-player, MMO, Co-op, Steam Trading Cards...</td>\n",
       "      <td>Free to Play</td>\n",
       "      <td>False</td>\n",
       "      <td>224600</td>\n",
       "      <td>Trion Worlds, Inc.</td>\n",
       "      <td>Mostly Positive</td>\n",
       "      <td>64</td>\n",
       "    </tr>\n",
       "  </tbody>\n",
       "</table>\n",
       "</div>"
      ],
      "text/plain": [
       "                publisher                                             genres  \\\n",
       "28926  Trion Worlds, Inc.  [Action, Free to Play, Massively Multiplayer, ...   \n",
       "\n",
       "       app_name     title                                                url  \\\n",
       "28926  Defiance  Defiance  http://store.steampowered.com/app/224600/Defia...   \n",
       "\n",
       "      release_date                                               tags  \\\n",
       "28926   2014-06-04  [Free to Play, Action, Open World, Massively M...   \n",
       "\n",
       "       discount_price                                        reviews_url  \\\n",
       "28926             NaN  http://steamcommunity.com/app/224600/reviews/?...   \n",
       "\n",
       "                                                   specs         price  \\\n",
       "28926  [Multi-player, MMO, Co-op, Steam Trading Cards...  Free to Play   \n",
       "\n",
       "       early_access      id           developer        sentiment metascore  \n",
       "28926         False  224600  Trion Worlds, Inc.  Mostly Positive        64  "
      ]
     },
     "execution_count": 24,
     "metadata": {},
     "output_type": "execute_result"
    }
   ],
   "source": [
    "data_games[data_games.id == '224600']"
   ]
  },
  {
   "cell_type": "markdown",
   "metadata": {},
   "source": [
    "**Exploracion de datos**"
   ]
  },
  {
   "cell_type": "markdown",
   "metadata": {},
   "source": [
    "a) Explora la fuente de datos: ¿Que representa el dataset? ¿Hay informacion sobre las columnas?"
   ]
  },
  {
   "cell_type": "markdown",
   "metadata": {},
   "source": [
    "En este proyecto hay dos datasets, el primero \"data_reviews\", contiene la informacion de millones de\n",
    "reseñas a juegos de Steam y que fueron hechas por los mismos jugadores\n",
    "\n",
    "\n",
    "* **username**: es el nombre/alias de la persona que esta haciendo la review.\n",
    "* **hours**: indica la cantidad de horas que tiene jugadas al juego en cuestion.\n",
    "* **products**: indica la cantidad de juegos que tiene el usuario.\n",
    "\n",
    "* **product_id**: almacena un numero UNICO el cual representa los distintos juegos que se encuentran en \n",
    "steam.\n",
    "\n",
    "* **page_order**:\n",
    "\n",
    "* **date**: indica la fecha de publicacion de la reseña.\n",
    "\n",
    "* **text**: indica el texto que escribio el usuario.\n",
    "\n",
    "* **early_access**: en los juegos, que se encuentre en \"early access\" significa que se puede jugar/probar el\n",
    "juego antes de que haya salido oficialmente, esto sirve generalmente para buscar fallos.\n",
    "\n",
    "* **page**: indica el numero de pagina donde se encuentra la reseña\n",
    "\n",
    "* **found_funny**: indica si le gusto o no el juego.\n",
    "\n",
    "* **compensation**: indica si pago el producto o lo recibio gratis.\n",
    "\n",
    "* **user_id**: es lo mismo que el \"product_id\" solo que para los usuarios, basicamente es un numero identificador para los usuarios.Ya que el \"username\" se puede cambiar en cualquier momento y pueden existir nombres repetidos se utiliza el user_id para identificar a cada jugador.\n",
    "\n",
    "\n",
    "Luego tenemos el otro dataset llamado \"data_game\", contiene la informacion de cada juego, si es popular y si es pago o gratuito, ademas tambien contiene los generos del juego. por ejemplo accion, multijugador, etc.\n",
    "\n",
    "* **publisher**: indica la distribuidora que esta publicitando el juego.\n",
    "* **genres**: indica los generos del juego.\n",
    "* **app_name**: indica el nombre del juego.\n",
    "* **title**: indica el titulo del juego.\n",
    "* **url**: indica la pagina en donde se encuentra en steam.\n",
    "* **release_date**: indica la fecha de salida del juego.\n",
    "* **tags**: indica los tags del juego, esto es para una mejor busqueda a la hora de publicitarse.\n",
    "* **discount_price**: indica el precio que tiene en descuento.\n",
    "* **reviews_url**: indica la pagina donde se encuentran las reseñas del juego.\n",
    "* **specs**: indica los requisitos para poder jugar al juego.\n",
    "* **price**: indica el precio del juego.\n",
    "* **early_access**: indica si se encuentra en early access o no.\n",
    "* **id**: indica el codigo del juego (es decir el product_id)\n",
    "* **developer**: indica quien desarrollo el juego.\n",
    "* **sentiment**: indica si el juego es gustado o no.\n",
    "* **metascore**: esto es un puntaje que otorga \"metacritic\" e indica que tan bueno es el juego y va de 0-100."
   ]
  },
  {
   "cell_type": "markdown",
   "metadata": {},
   "source": [
    "Verificacion de que el dataset cumple con las premisas del modelo, o sea valores unicos para la combinacion de **username+product_id**"
   ]
  },
  {
   "cell_type": "code",
   "execution_count": 25,
   "metadata": {},
   "outputs": [
    {
     "data": {
      "text/html": [
       "<div>\n",
       "<style scoped>\n",
       "    .dataframe tbody tr th:only-of-type {\n",
       "        vertical-align: middle;\n",
       "    }\n",
       "\n",
       "    .dataframe tbody tr th {\n",
       "        vertical-align: top;\n",
       "    }\n",
       "\n",
       "    .dataframe thead th {\n",
       "        text-align: right;\n",
       "    }\n",
       "</style>\n",
       "<table border=\"1\" class=\"dataframe\">\n",
       "  <thead>\n",
       "    <tr style=\"text-align: right;\">\n",
       "      <th></th>\n",
       "      <th></th>\n",
       "      <th>hours</th>\n",
       "      <th>text</th>\n",
       "    </tr>\n",
       "    <tr>\n",
       "      <th>username</th>\n",
       "      <th>product_id</th>\n",
       "      <th></th>\n",
       "      <th></th>\n",
       "    </tr>\n",
       "  </thead>\n",
       "  <tbody>\n",
       "    <tr>\n",
       "      <th rowspan=\"3\" valign=\"top\">123</th>\n",
       "      <th>346110</th>\n",
       "      <td>181</td>\n",
       "      <td>181</td>\n",
       "    </tr>\n",
       "    <tr>\n",
       "      <th>252490</th>\n",
       "      <td>27</td>\n",
       "      <td>27</td>\n",
       "    </tr>\n",
       "    <tr>\n",
       "      <th>433850</th>\n",
       "      <td>18</td>\n",
       "      <td>18</td>\n",
       "    </tr>\n",
       "    <tr>\n",
       "      <th>Red</th>\n",
       "      <th>440</th>\n",
       "      <td>18</td>\n",
       "      <td>18</td>\n",
       "    </tr>\n",
       "    <tr>\n",
       "      <th>Jack</th>\n",
       "      <th>440</th>\n",
       "      <td>17</td>\n",
       "      <td>17</td>\n",
       "    </tr>\n",
       "  </tbody>\n",
       "</table>\n",
       "</div>"
      ],
      "text/plain": [
       "                     hours  text\n",
       "username product_id             \n",
       "123      346110        181   181\n",
       "         252490         27    27\n",
       "         433850         18    18\n",
       "Red      440            18    18\n",
       "Jack     440            17    17"
      ]
     },
     "execution_count": 25,
     "metadata": {},
     "output_type": "execute_result"
    }
   ],
   "source": [
    "data_reviews_filtrado.groupby([\"username\",\"product_id\"]).count().sort_values('hours',ascending=False).head()\n"
   ]
  },
  {
   "cell_type": "markdown",
   "metadata": {},
   "source": [
    "corroboramos si efectivamente esta combinacion esta duplicada."
   ]
  },
  {
   "cell_type": "code",
   "execution_count": 26,
   "metadata": {},
   "outputs": [
    {
     "data": {
      "text/html": [
       "<div>\n",
       "<style scoped>\n",
       "    .dataframe tbody tr th:only-of-type {\n",
       "        vertical-align: middle;\n",
       "    }\n",
       "\n",
       "    .dataframe tbody tr th {\n",
       "        vertical-align: top;\n",
       "    }\n",
       "\n",
       "    .dataframe thead th {\n",
       "        text-align: right;\n",
       "    }\n",
       "</style>\n",
       "<table border=\"1\" class=\"dataframe\">\n",
       "  <thead>\n",
       "    <tr style=\"text-align: right;\">\n",
       "      <th></th>\n",
       "      <th>username</th>\n",
       "      <th>hours</th>\n",
       "      <th>product_id</th>\n",
       "      <th>text</th>\n",
       "    </tr>\n",
       "  </thead>\n",
       "  <tbody>\n",
       "    <tr>\n",
       "      <th>4641031</th>\n",
       "      <td>123</td>\n",
       "      <td>4838.5</td>\n",
       "      <td>346110</td>\n",
       "      <td>Bans for days.</td>\n",
       "    </tr>\n",
       "    <tr>\n",
       "      <th>4646124</th>\n",
       "      <td>123</td>\n",
       "      <td>1926.6</td>\n",
       "      <td>346110</td>\n",
       "      <td>10/10</td>\n",
       "    </tr>\n",
       "    <tr>\n",
       "      <th>4658369</th>\n",
       "      <td>123</td>\n",
       "      <td>2867.9</td>\n",
       "      <td>346110</td>\n",
       "      <td>Takes over your life and will give you no free...</td>\n",
       "    </tr>\n",
       "    <tr>\n",
       "      <th>4659332</th>\n",
       "      <td>123</td>\n",
       "      <td>2696.6</td>\n",
       "      <td>346110</td>\n",
       "      <td>This game is like crack. You won't be able to ...</td>\n",
       "    </tr>\n",
       "    <tr>\n",
       "      <th>4661365</th>\n",
       "      <td>123</td>\n",
       "      <td>413.7</td>\n",
       "      <td>346110</td>\n",
       "      <td>I'm playing this game for a couple of weeks no...</td>\n",
       "    </tr>\n",
       "    <tr>\n",
       "      <th>...</th>\n",
       "      <td>...</td>\n",
       "      <td>...</td>\n",
       "      <td>...</td>\n",
       "      <td>...</td>\n",
       "    </tr>\n",
       "    <tr>\n",
       "      <th>4781451</th>\n",
       "      <td>123</td>\n",
       "      <td>1406.0</td>\n",
       "      <td>346110</td>\n",
       "      <td>Hello all So I made a base and it was great I ...</td>\n",
       "    </tr>\n",
       "    <tr>\n",
       "      <th>4781610</th>\n",
       "      <td>123</td>\n",
       "      <td>285.2</td>\n",
       "      <td>346110</td>\n",
       "      <td>Official Servers are more than 2 months with D...</td>\n",
       "    </tr>\n",
       "    <tr>\n",
       "      <th>4781720</th>\n",
       "      <td>123</td>\n",
       "      <td>3064.9</td>\n",
       "      <td>346110</td>\n",
       "      <td>Love it</td>\n",
       "    </tr>\n",
       "    <tr>\n",
       "      <th>4781752</th>\n",
       "      <td>123</td>\n",
       "      <td>6522.7</td>\n",
       "      <td>346110</td>\n",
       "      <td>3800 Hours played nearly and I still love this...</td>\n",
       "    </tr>\n",
       "    <tr>\n",
       "      <th>4782381</th>\n",
       "      <td>123</td>\n",
       "      <td>1063.6</td>\n",
       "      <td>346110</td>\n",
       "      <td>♥♥♥♥♥game lagging and ♥♥♥♥♥♥ and ♥♥♥♥ you</td>\n",
       "    </tr>\n",
       "  </tbody>\n",
       "</table>\n",
       "<p>181 rows × 4 columns</p>\n",
       "</div>"
      ],
      "text/plain": [
       "        username   hours  product_id  \\\n",
       "4641031      123  4838.5      346110   \n",
       "4646124      123  1926.6      346110   \n",
       "4658369      123  2867.9      346110   \n",
       "4659332      123  2696.6      346110   \n",
       "4661365      123   413.7      346110   \n",
       "...          ...     ...         ...   \n",
       "4781451      123  1406.0      346110   \n",
       "4781610      123   285.2      346110   \n",
       "4781720      123  3064.9      346110   \n",
       "4781752      123  6522.7      346110   \n",
       "4782381      123  1063.6      346110   \n",
       "\n",
       "                                                      text  \n",
       "4641031                                     Bans for days.  \n",
       "4646124                                              10/10  \n",
       "4658369  Takes over your life and will give you no free...  \n",
       "4659332  This game is like crack. You won't be able to ...  \n",
       "4661365  I'm playing this game for a couple of weeks no...  \n",
       "...                                                    ...  \n",
       "4781451  Hello all So I made a base and it was great I ...  \n",
       "4781610  Official Servers are more than 2 months with D...  \n",
       "4781720                                            Love it  \n",
       "4781752  3800 Hours played nearly and I still love this...  \n",
       "4782381          ♥♥♥♥♥game lagging and ♥♥♥♥♥♥ and ♥♥♥♥ you  \n",
       "\n",
       "[181 rows x 4 columns]"
      ]
     },
     "execution_count": 26,
     "metadata": {},
     "output_type": "execute_result"
    }
   ],
   "source": [
    "data_reviews_filtrado.loc[(data_reviews_filtrado.username==\"123\")&(data_reviews_filtrado.product_id==346110)]"
   ]
  },
  {
   "cell_type": "markdown",
   "metadata": {},
   "source": [
    "De todas las combinaciones duplicadas, nos quedaremos solamente con el primer registro"
   ]
  },
  {
   "cell_type": "code",
   "execution_count": 27,
   "metadata": {},
   "outputs": [
    {
     "name": "stdout",
     "output_type": "stream",
     "text": [
      "Cantidad de registros antes:   6961282\n",
      "Cantidad de registros despues: 6929816\n"
     ]
    }
   ],
   "source": [
    "print('Cantidad de registros antes:  ',data_reviews_filtrado.shape[0])\n",
    "data_reviews_filtrado = data_reviews_filtrado.groupby([\"product_id\",\"username\"]).first()\n",
    "data_reviews_filtrado = data_reviews_filtrado.reset_index()\n",
    "print('Cantidad de registros despues:',data_reviews_filtrado.shape[0])"
   ]
  },
  {
   "cell_type": "markdown",
   "metadata": {},
   "source": [
    "Analizamos los valores Nulos"
   ]
  },
  {
   "cell_type": "code",
   "execution_count": 29,
   "metadata": {},
   "outputs": [
    {
     "name": "stdout",
     "output_type": "stream",
     "text": [
      "Cantidad de Nulls por cada columna\n"
     ]
    },
    {
     "data": {
      "text/html": [
       "<div>\n",
       "<style scoped>\n",
       "    .dataframe tbody tr th:only-of-type {\n",
       "        vertical-align: middle;\n",
       "    }\n",
       "\n",
       "    .dataframe tbody tr th {\n",
       "        vertical-align: top;\n",
       "    }\n",
       "\n",
       "    .dataframe thead th {\n",
       "        text-align: right;\n",
       "    }\n",
       "</style>\n",
       "<table border=\"1\" class=\"dataframe\">\n",
       "  <thead>\n",
       "    <tr style=\"text-align: right;\">\n",
       "      <th></th>\n",
       "      <th>Columna</th>\n",
       "      <th>Faltantes</th>\n",
       "    </tr>\n",
       "  </thead>\n",
       "  <tbody>\n",
       "    <tr>\n",
       "      <th>2</th>\n",
       "      <td>hours</td>\n",
       "      <td>25825</td>\n",
       "    </tr>\n",
       "    <tr>\n",
       "      <th>3</th>\n",
       "      <td>text</td>\n",
       "      <td>16041</td>\n",
       "    </tr>\n",
       "  </tbody>\n",
       "</table>\n",
       "</div>"
      ],
      "text/plain": [
       "  Columna  Faltantes\n",
       "2   hours      25825\n",
       "3    text      16041"
      ]
     },
     "execution_count": 29,
     "metadata": {},
     "output_type": "execute_result"
    }
   ],
   "source": [
    "#calculo de cada columna faltante\n",
    "print('Cantidad de Nulls por cada columna')\n",
    "null_df = pd.DataFrame(data_reviews_filtrado.isna().sum(),columns=['Faltantes'])\n",
    "null_df['Columna'] = null_df.index\n",
    "null_df.reset_index(drop=True, inplace=True)\n",
    "null_df.loc[null_df['Faltantes']>0,['Columna','Faltantes']].head(200)"
   ]
  },
  {
   "cell_type": "markdown",
   "metadata": {},
   "source": [
    "Como solamente tenemos valores nulos en **hours**, lo vamos a rellenar con 0.\n",
    "El valor de **text** por ahora lo dejamos como esta, ya que en la logica de procesamiento por ahora solo vamos a considerar el atributo **hours** para el modelo."
   ]
  },
  {
   "cell_type": "code",
   "execution_count": 30,
   "metadata": {},
   "outputs": [],
   "source": [
    "data_reviews_filtrado[\"hours\"].fillna(0,inplace=True)"
   ]
  },
  {
   "cell_type": "code",
   "execution_count": 31,
   "metadata": {},
   "outputs": [],
   "source": [
    "#Guardo el dataframe para poder abrirlo mas facilmente\n",
    "data_reviews_filtrado.to_csv('data_reviews_filtrado_unique.csv', index= False)"
   ]
  },
  {
   "cell_type": "markdown",
   "metadata": {},
   "source": [
    "# CheckPoint 2"
   ]
  },
  {
   "cell_type": "markdown",
   "metadata": {},
   "source": [
    "En esta etapa vamos a realizar los siguientes pasos:\n",
    "\n",
    "**1-** Obtenemos de nuestro Dataset la lista unica de Productos(Juegos)\n",
    "\n",
    "**2-** Como la idea es obtener un catalogador de puntaje de [0..4], obtendremos los percentiles de cada producto\n",
    "y lo [20,40,60,80,100]\n",
    "\n",
    "**3-** Con lo obtenido en el punto anterior, asignamos una nueva columnas a nuestro dataset de username/product_id\n",
    "\n",
    "Volvemos a importar las librerias interesadas"
   ]
  },
  {
   "cell_type": "code",
   "execution_count": 34,
   "metadata": {},
   "outputs": [],
   "source": [
    "import gzip\n",
    "import pandas as pd\n",
    "import seaborn as sns\n",
    "import matplotlib.pyplot as plt\n",
    "import numpy as np\n",
    "from tqdm import tqdm\n",
    "\n",
    "\n",
    "\n",
    "from surprise import Dataset\n",
    "from surprise import Reader\n",
    "from surprise.model_selection import train_test_split\n",
    "from surprise import SVD\n",
    "import warnings \n",
    "warnings.filterwarnings('ignore')"
   ]
  },
  {
   "cell_type": "code",
   "execution_count": 35,
   "metadata": {},
   "outputs": [],
   "source": [
    "data_reviews_filtrado_unique = pd.read_csv('data_reviews_filtrado_unique.csv')"
   ]
  },
  {
   "cell_type": "code",
   "execution_count": 36,
   "metadata": {},
   "outputs": [],
   "source": [
    "#obtenemos la lista de productos con la que vamos a trabajar\n",
    "productos_array = data_reviews_filtrado_unique.product_id.unique()\n",
    "productos_array.sort()"
   ]
  },
  {
   "cell_type": "markdown",
   "metadata": {},
   "source": [
    "**Induccion de percentiles por producto**"
   ]
  },
  {
   "cell_type": "code",
   "execution_count": 37,
   "metadata": {
    "scrolled": true
   },
   "outputs": [
    {
     "name": "stderr",
     "output_type": "stream",
     "text": [
      "100%|██████████| 15474/15474 [02:43<00:00, 94.73it/s] \n"
     ]
    }
   ],
   "source": [
    "bins = []\n",
    "\n",
    "for product_id in tqdm(productos_array):\n",
    "    \n",
    "    prs=np.percentile(data_reviews_filtrado_unique.loc[data_reviews_filtrado_unique.product_id==product_id].hours, [20,40,60,80,100])    \n",
    "    \n",
    "    ###como el sistema es duro y requiere al menos que el producto tenga 5 scores posibles,\n",
    "    ###se se elininan aquellos que no cumplen con esta premisa\n",
    "    if len(np.unique(prs))<5:\n",
    "        continue\n",
    "    \n",
    "    pr20 =prs[0]\n",
    "    pr40 =prs[1]\n",
    "    pr60 =prs[2]\n",
    "    pr80 =prs[3]\n",
    "    pr100=prs[4]\n",
    "    \n",
    "    bins.append([product_id,pr20,pr40,pr60,pr80,pr100])\n",
    "        \n",
    "df_distribucion = pd.DataFrame(bins,columns=[\"product_id\",\"20\",\"40\",\"60\",\"80\",\"100\"])"
   ]
  },
  {
   "cell_type": "markdown",
   "metadata": {},
   "source": [
    "Cruzamos ambos dataset de data_reviews_score  y df_distribucion para tener todo en dataset unico y evitar ejecuciones ciclicas"
   ]
  },
  {
   "cell_type": "code",
   "execution_count": 39,
   "metadata": {},
   "outputs": [],
   "source": [
    "data_reviews_score = pd.merge(data_reviews_filtrado_unique, df_distribucion, on=\"product_id\")\n",
    "data_reviews_score[\"score\"] = np.nan"
   ]
  },
  {
   "cell_type": "markdown",
   "metadata": {},
   "source": [
    "**Induccion del Score a partir de los percentiles**"
   ]
  },
  {
   "cell_type": "code",
   "execution_count": 40,
   "metadata": {},
   "outputs": [],
   "source": [
    "data_reviews_score.score.loc[(data_reviews_score.hours<=data_reviews_score[\"20\"])  & (data_reviews_score.score.isna())] = 1\n",
    "data_reviews_score.score.loc[(data_reviews_score.hours<=data_reviews_score[\"40\"])  & (data_reviews_score.score.isna())] = 2\n",
    "data_reviews_score.score.loc[(data_reviews_score.hours<=data_reviews_score[\"60\"])  & (data_reviews_score.score.isna())] = 3\n",
    "data_reviews_score.score.loc[(data_reviews_score.hours<=data_reviews_score[\"80\"])  & (data_reviews_score.score.isna())] = 4\n",
    "data_reviews_score.score.loc[(data_reviews_score.hours<=data_reviews_score[\"100\"]) & (data_reviews_score.score.isna())] = 5\n"
   ]
  },
  {
   "cell_type": "markdown",
   "metadata": {},
   "source": [
    "Eliminamos las columnas redundantes de percentiles, a su vez la de text que no utilizaremos"
   ]
  },
  {
   "cell_type": "code",
   "execution_count": 41,
   "metadata": {
    "scrolled": true
   },
   "outputs": [],
   "source": [
    "data_reviews_score = data_reviews_score.drop(columns=[\"20\",\"40\",\"60\",\"80\",\"100\"])"
   ]
  },
  {
   "cell_type": "code",
   "execution_count": 42,
   "metadata": {},
   "outputs": [],
   "source": [
    "data_reviews_score = data_reviews_score.drop(columns=[\"text\"])"
   ]
  },
  {
   "cell_type": "code",
   "execution_count": 43,
   "metadata": {},
   "outputs": [
    {
     "data": {
      "text/html": [
       "<div>\n",
       "<style scoped>\n",
       "    .dataframe tbody tr th:only-of-type {\n",
       "        vertical-align: middle;\n",
       "    }\n",
       "\n",
       "    .dataframe tbody tr th {\n",
       "        vertical-align: top;\n",
       "    }\n",
       "\n",
       "    .dataframe thead th {\n",
       "        text-align: right;\n",
       "    }\n",
       "</style>\n",
       "<table border=\"1\" class=\"dataframe\">\n",
       "  <thead>\n",
       "    <tr style=\"text-align: right;\">\n",
       "      <th></th>\n",
       "      <th>product_id</th>\n",
       "      <th>username</th>\n",
       "      <th>hours</th>\n",
       "      <th>score</th>\n",
       "    </tr>\n",
       "  </thead>\n",
       "  <tbody>\n",
       "    <tr>\n",
       "      <th>0</th>\n",
       "      <td>10</td>\n",
       "      <td>-  splattt      -A-</td>\n",
       "      <td>1284.1</td>\n",
       "      <td>5.0</td>\n",
       "    </tr>\n",
       "    <tr>\n",
       "      <th>1</th>\n",
       "      <td>10</td>\n",
       "      <td>-= Nemo =-</td>\n",
       "      <td>2849.2</td>\n",
       "      <td>5.0</td>\n",
       "    </tr>\n",
       "    <tr>\n",
       "      <th>2</th>\n",
       "      <td>10</td>\n",
       "      <td>-JuStiNn^^^^ CS.MONEY</td>\n",
       "      <td>37.9</td>\n",
       "      <td>4.0</td>\n",
       "    </tr>\n",
       "    <tr>\n",
       "      <th>3</th>\n",
       "      <td>10</td>\n",
       "      <td>-NdRP0P-</td>\n",
       "      <td>62.5</td>\n",
       "      <td>4.0</td>\n",
       "    </tr>\n",
       "    <tr>\n",
       "      <th>4</th>\n",
       "      <td>10</td>\n",
       "      <td>4nTii</td>\n",
       "      <td>17.0</td>\n",
       "      <td>3.0</td>\n",
       "    </tr>\n",
       "  </tbody>\n",
       "</table>\n",
       "</div>"
      ],
      "text/plain": [
       "   product_id               username   hours  score\n",
       "0          10    -  splattt      -A-  1284.1    5.0\n",
       "1          10             -= Nemo =-  2849.2    5.0\n",
       "2          10  -JuStiNn^^^^ CS.MONEY    37.9    4.0\n",
       "3          10               -NdRP0P-    62.5    4.0\n",
       "4          10                  4nTii    17.0    3.0"
      ]
     },
     "execution_count": 43,
     "metadata": {},
     "output_type": "execute_result"
    }
   ],
   "source": [
    "data_reviews_score.head()"
   ]
  },
  {
   "cell_type": "code",
   "execution_count": 44,
   "metadata": {},
   "outputs": [],
   "source": [
    "#Guardo el dataframe para poder abrirlo mas facilmente\n",
    "data_reviews_score.to_csv('data_reviews_score.csv', index= False)"
   ]
  },
  {
   "cell_type": "markdown",
   "metadata": {},
   "source": [
    "# CheckPoint 3"
   ]
  },
  {
   "cell_type": "code",
   "execution_count": 275,
   "metadata": {},
   "outputs": [],
   "source": [
    "import gzip\n",
    "import pandas as pd\n",
    "import seaborn as sns\n",
    "import matplotlib.pyplot as plt\n",
    "import numpy as np\n",
    "from tqdm import tqdm\n",
    "\n",
    "\n",
    "\n",
    "from surprise import Dataset\n",
    "from surprise import Reader\n",
    "from surprise.model_selection import train_test_split\n",
    "from surprise import SVD\n",
    "import warnings \n",
    "warnings.filterwarnings('ignore')"
   ]
  },
  {
   "cell_type": "code",
   "execution_count": 276,
   "metadata": {},
   "outputs": [],
   "source": [
    "def parse(path):\n",
    "    g = gzip.open(path, 'r')\n",
    "    for l in g:\n",
    "        yield eval(l)"
   ]
  },
  {
   "cell_type": "code",
   "execution_count": 277,
   "metadata": {},
   "outputs": [
    {
     "data": {
      "text/html": [
       "<div>\n",
       "<style scoped>\n",
       "    .dataframe tbody tr th:only-of-type {\n",
       "        vertical-align: middle;\n",
       "    }\n",
       "\n",
       "    .dataframe tbody tr th {\n",
       "        vertical-align: top;\n",
       "    }\n",
       "\n",
       "    .dataframe thead th {\n",
       "        text-align: right;\n",
       "    }\n",
       "</style>\n",
       "<table border=\"1\" class=\"dataframe\">\n",
       "  <thead>\n",
       "    <tr style=\"text-align: right;\">\n",
       "      <th></th>\n",
       "      <th>product_id</th>\n",
       "      <th>username</th>\n",
       "      <th>hours</th>\n",
       "      <th>score</th>\n",
       "    </tr>\n",
       "  </thead>\n",
       "  <tbody>\n",
       "    <tr>\n",
       "      <th>0</th>\n",
       "      <td>10</td>\n",
       "      <td>-  splattt      -A-</td>\n",
       "      <td>1284.1</td>\n",
       "      <td>5.0</td>\n",
       "    </tr>\n",
       "    <tr>\n",
       "      <th>1</th>\n",
       "      <td>10</td>\n",
       "      <td>-= Nemo =-</td>\n",
       "      <td>2849.2</td>\n",
       "      <td>5.0</td>\n",
       "    </tr>\n",
       "    <tr>\n",
       "      <th>2</th>\n",
       "      <td>10</td>\n",
       "      <td>-JuStiNn^^^^ CS.MONEY</td>\n",
       "      <td>37.9</td>\n",
       "      <td>4.0</td>\n",
       "    </tr>\n",
       "    <tr>\n",
       "      <th>3</th>\n",
       "      <td>10</td>\n",
       "      <td>-NdRP0P-</td>\n",
       "      <td>62.5</td>\n",
       "      <td>4.0</td>\n",
       "    </tr>\n",
       "  </tbody>\n",
       "</table>\n",
       "</div>"
      ],
      "text/plain": [
       "  product_id               username   hours  score\n",
       "0         10    -  splattt      -A-  1284.1    5.0\n",
       "1         10             -= Nemo =-  2849.2    5.0\n",
       "2         10  -JuStiNn^^^^ CS.MONEY    37.9    4.0\n",
       "3         10               -NdRP0P-    62.5    4.0"
      ]
     },
     "execution_count": 277,
     "metadata": {},
     "output_type": "execute_result"
    }
   ],
   "source": [
    "data_reviews_score = pd.read_csv('data_reviews_score.csv')\n",
    "###pasamos el product_id a STR para que luego pueda ser relacionado contra la info de games.\n",
    "data_reviews_score['product_id'] = data_reviews_score['product_id'].astype(str)\n",
    "data_reviews_score.head(4)"
   ]
  },
  {
   "cell_type": "markdown",
   "metadata": {},
   "source": [
    "Importamos la informacion de los juegos"
   ]
  },
  {
   "cell_type": "code",
   "execution_count": 278,
   "metadata": {},
   "outputs": [
    {
     "data": {
      "text/html": [
       "<div>\n",
       "<style scoped>\n",
       "    .dataframe tbody tr th:only-of-type {\n",
       "        vertical-align: middle;\n",
       "    }\n",
       "\n",
       "    .dataframe tbody tr th {\n",
       "        vertical-align: top;\n",
       "    }\n",
       "\n",
       "    .dataframe thead th {\n",
       "        text-align: right;\n",
       "    }\n",
       "</style>\n",
       "<table border=\"1\" class=\"dataframe\">\n",
       "  <thead>\n",
       "    <tr style=\"text-align: right;\">\n",
       "      <th></th>\n",
       "      <th>publisher</th>\n",
       "      <th>genres</th>\n",
       "      <th>app_name</th>\n",
       "      <th>title</th>\n",
       "      <th>url</th>\n",
       "      <th>release_date</th>\n",
       "      <th>tags</th>\n",
       "      <th>discount_price</th>\n",
       "      <th>reviews_url</th>\n",
       "      <th>specs</th>\n",
       "      <th>price</th>\n",
       "      <th>early_access</th>\n",
       "      <th>product_id</th>\n",
       "      <th>developer</th>\n",
       "      <th>sentiment</th>\n",
       "      <th>metascore</th>\n",
       "    </tr>\n",
       "  </thead>\n",
       "  <tbody>\n",
       "    <tr>\n",
       "      <th>0</th>\n",
       "      <td>Kotoshiro</td>\n",
       "      <td>[Action, Casual, Indie, Simulation, Strategy]</td>\n",
       "      <td>Lost Summoner Kitty</td>\n",
       "      <td>Lost Summoner Kitty</td>\n",
       "      <td>http://store.steampowered.com/app/761140/Lost_...</td>\n",
       "      <td>2018-01-04</td>\n",
       "      <td>[Strategy, Action, Indie, Casual, Simulation]</td>\n",
       "      <td>4.49</td>\n",
       "      <td>http://steamcommunity.com/app/761140/reviews/?...</td>\n",
       "      <td>[Single-player]</td>\n",
       "      <td>4.99</td>\n",
       "      <td>False</td>\n",
       "      <td>761140</td>\n",
       "      <td>Kotoshiro</td>\n",
       "      <td>NaN</td>\n",
       "      <td>NaN</td>\n",
       "    </tr>\n",
       "    <tr>\n",
       "      <th>1</th>\n",
       "      <td>Making Fun, Inc.</td>\n",
       "      <td>[Free to Play, Indie, RPG, Strategy]</td>\n",
       "      <td>Ironbound</td>\n",
       "      <td>Ironbound</td>\n",
       "      <td>http://store.steampowered.com/app/643980/Ironb...</td>\n",
       "      <td>2018-01-04</td>\n",
       "      <td>[Free to Play, Strategy, Indie, RPG, Card Game...</td>\n",
       "      <td>NaN</td>\n",
       "      <td>http://steamcommunity.com/app/643980/reviews/?...</td>\n",
       "      <td>[Single-player, Multi-player, Online Multi-Pla...</td>\n",
       "      <td>Free To Play</td>\n",
       "      <td>False</td>\n",
       "      <td>643980</td>\n",
       "      <td>Secret Level SRL</td>\n",
       "      <td>Mostly Positive</td>\n",
       "      <td>NaN</td>\n",
       "    </tr>\n",
       "    <tr>\n",
       "      <th>2</th>\n",
       "      <td>Poolians.com</td>\n",
       "      <td>[Casual, Free to Play, Indie, Simulation, Sports]</td>\n",
       "      <td>Real Pool 3D - Poolians</td>\n",
       "      <td>Real Pool 3D - Poolians</td>\n",
       "      <td>http://store.steampowered.com/app/670290/Real_...</td>\n",
       "      <td>2017-07-24</td>\n",
       "      <td>[Free to Play, Simulation, Sports, Casual, Ind...</td>\n",
       "      <td>NaN</td>\n",
       "      <td>http://steamcommunity.com/app/670290/reviews/?...</td>\n",
       "      <td>[Single-player, Multi-player, Online Multi-Pla...</td>\n",
       "      <td>Free to Play</td>\n",
       "      <td>False</td>\n",
       "      <td>670290</td>\n",
       "      <td>Poolians.com</td>\n",
       "      <td>Mostly Positive</td>\n",
       "      <td>NaN</td>\n",
       "    </tr>\n",
       "    <tr>\n",
       "      <th>3</th>\n",
       "      <td>彼岸领域</td>\n",
       "      <td>[Action, Adventure, Casual]</td>\n",
       "      <td>弹炸人2222</td>\n",
       "      <td>弹炸人2222</td>\n",
       "      <td>http://store.steampowered.com/app/767400/2222/</td>\n",
       "      <td>2017-12-07</td>\n",
       "      <td>[Action, Adventure, Casual]</td>\n",
       "      <td>0.83</td>\n",
       "      <td>http://steamcommunity.com/app/767400/reviews/?...</td>\n",
       "      <td>[Single-player]</td>\n",
       "      <td>0.99</td>\n",
       "      <td>False</td>\n",
       "      <td>767400</td>\n",
       "      <td>彼岸领域</td>\n",
       "      <td>NaN</td>\n",
       "      <td>NaN</td>\n",
       "    </tr>\n",
       "    <tr>\n",
       "      <th>4</th>\n",
       "      <td>NaN</td>\n",
       "      <td>NaN</td>\n",
       "      <td>Log Challenge</td>\n",
       "      <td>NaN</td>\n",
       "      <td>http://store.steampowered.com/app/773570/Log_C...</td>\n",
       "      <td>NaN</td>\n",
       "      <td>[Action, Indie, Casual, Sports]</td>\n",
       "      <td>1.79</td>\n",
       "      <td>http://steamcommunity.com/app/773570/reviews/?...</td>\n",
       "      <td>[Single-player, Full controller support, HTC V...</td>\n",
       "      <td>2.99</td>\n",
       "      <td>False</td>\n",
       "      <td>773570</td>\n",
       "      <td>NaN</td>\n",
       "      <td>NaN</td>\n",
       "      <td>NaN</td>\n",
       "    </tr>\n",
       "  </tbody>\n",
       "</table>\n",
       "</div>"
      ],
      "text/plain": [
       "          publisher                                             genres  \\\n",
       "0         Kotoshiro      [Action, Casual, Indie, Simulation, Strategy]   \n",
       "1  Making Fun, Inc.               [Free to Play, Indie, RPG, Strategy]   \n",
       "2      Poolians.com  [Casual, Free to Play, Indie, Simulation, Sports]   \n",
       "3              彼岸领域                        [Action, Adventure, Casual]   \n",
       "4               NaN                                                NaN   \n",
       "\n",
       "                  app_name                    title  \\\n",
       "0      Lost Summoner Kitty      Lost Summoner Kitty   \n",
       "1                Ironbound                Ironbound   \n",
       "2  Real Pool 3D - Poolians  Real Pool 3D - Poolians   \n",
       "3                  弹炸人2222                  弹炸人2222   \n",
       "4            Log Challenge                      NaN   \n",
       "\n",
       "                                                 url release_date  \\\n",
       "0  http://store.steampowered.com/app/761140/Lost_...   2018-01-04   \n",
       "1  http://store.steampowered.com/app/643980/Ironb...   2018-01-04   \n",
       "2  http://store.steampowered.com/app/670290/Real_...   2017-07-24   \n",
       "3     http://store.steampowered.com/app/767400/2222/   2017-12-07   \n",
       "4  http://store.steampowered.com/app/773570/Log_C...          NaN   \n",
       "\n",
       "                                                tags  discount_price  \\\n",
       "0      [Strategy, Action, Indie, Casual, Simulation]            4.49   \n",
       "1  [Free to Play, Strategy, Indie, RPG, Card Game...             NaN   \n",
       "2  [Free to Play, Simulation, Sports, Casual, Ind...             NaN   \n",
       "3                        [Action, Adventure, Casual]            0.83   \n",
       "4                    [Action, Indie, Casual, Sports]            1.79   \n",
       "\n",
       "                                         reviews_url  \\\n",
       "0  http://steamcommunity.com/app/761140/reviews/?...   \n",
       "1  http://steamcommunity.com/app/643980/reviews/?...   \n",
       "2  http://steamcommunity.com/app/670290/reviews/?...   \n",
       "3  http://steamcommunity.com/app/767400/reviews/?...   \n",
       "4  http://steamcommunity.com/app/773570/reviews/?...   \n",
       "\n",
       "                                               specs         price  \\\n",
       "0                                    [Single-player]          4.99   \n",
       "1  [Single-player, Multi-player, Online Multi-Pla...  Free To Play   \n",
       "2  [Single-player, Multi-player, Online Multi-Pla...  Free to Play   \n",
       "3                                    [Single-player]          0.99   \n",
       "4  [Single-player, Full controller support, HTC V...          2.99   \n",
       "\n",
       "   early_access product_id         developer        sentiment metascore  \n",
       "0         False     761140         Kotoshiro              NaN       NaN  \n",
       "1         False     643980  Secret Level SRL  Mostly Positive       NaN  \n",
       "2         False     670290      Poolians.com  Mostly Positive       NaN  \n",
       "3         False     767400              彼岸领域              NaN       NaN  \n",
       "4         False     773570               NaN              NaN       NaN  "
      ]
     },
     "execution_count": 278,
     "metadata": {},
     "output_type": "execute_result"
    }
   ],
   "source": [
    "games_info = []\n",
    "for l in parse('steam_games.json.gz'):\n",
    "    games_info.append(l)\n",
    "games_info = pd.DataFrame(games_info)\n",
    "###renombro la columna id por product_id.\n",
    "games_info = games_info.rename(columns = {'id': 'product_id'}, inplace = False)\n",
    "games_info.head()"
   ]
  },
  {
   "cell_type": "code",
   "execution_count": 279,
   "metadata": {},
   "outputs": [
    {
     "name": "stdout",
     "output_type": "stream",
     "text": [
      "Shape data_reviews_score (6880440, 4)\n",
      "Shape games_info         (32135, 16)\n",
      "Shape productos con score    (14152,)\n"
     ]
    }
   ],
   "source": [
    "print('Shape data_reviews_score', data_reviews_score.shape)\n",
    "print('Shape games_info        ', games_info.shape)\n",
    "print('Shape productos con score   ', np.unique(data_reviews_score.product_id).shape)"
   ]
  },
  {
   "cell_type": "markdown",
   "metadata": {},
   "source": [
    "Como se puede ver, la mitad de los productos originales fue descartada, ya que no habia suficientes datos en los pasos anteiores para generar el Score de 5 valores"
   ]
  },
  {
   "cell_type": "markdown",
   "metadata": {},
   "source": [
    "# Ejecucion del Sistema de recomendacion"
   ]
  },
  {
   "cell_type": "code",
   "execution_count": 280,
   "metadata": {},
   "outputs": [],
   "source": [
    "reader = Reader()\n",
    "\n",
    "N_filas = 100000\n",
    "#N_filas = data_reviews_score.shape[0]\n",
    "\n",
    "data = Dataset.load_from_df(data_reviews_score[[\"username\",\"product_id\",\"score\"]][:N_filas],reader)\n",
    "\n",
    "trainset, testset = train_test_split(data, test_size=.25)"
   ]
  },
  {
   "cell_type": "code",
   "execution_count": 281,
   "metadata": {},
   "outputs": [],
   "source": [
    "svd = SVD()\n",
    "\n",
    "svd.fit(trainset)\n",
    "\n",
    "test_predictions = svd.test(testset)"
   ]
  },
  {
   "cell_type": "code",
   "execution_count": 282,
   "metadata": {
    "scrolled": true
   },
   "outputs": [
    {
     "name": "stdout",
     "output_type": "stream",
     "text": [
      "Cantidad de preducciones de test: 25000\n"
     ]
    }
   ],
   "source": [
    "print('Cantidad de preducciones de test:',len(test_predictions))"
   ]
  },
  {
   "cell_type": "markdown",
   "metadata": {},
   "source": [
    "tomamos un usuario cualquiera y vemos su prediccion para juegos que vio y potr  que no."
   ]
  },
  {
   "cell_type": "code",
   "execution_count": 283,
   "metadata": {},
   "outputs": [
    {
     "data": {
      "text/html": [
       "<div>\n",
       "<style scoped>\n",
       "    .dataframe tbody tr th:only-of-type {\n",
       "        vertical-align: middle;\n",
       "    }\n",
       "\n",
       "    .dataframe tbody tr th {\n",
       "        vertical-align: top;\n",
       "    }\n",
       "\n",
       "    .dataframe thead th {\n",
       "        text-align: right;\n",
       "    }\n",
       "</style>\n",
       "<table border=\"1\" class=\"dataframe\">\n",
       "  <thead>\n",
       "    <tr style=\"text-align: right;\">\n",
       "      <th></th>\n",
       "      <th>product_id</th>\n",
       "      <th>username</th>\n",
       "      <th>hours</th>\n",
       "      <th>score</th>\n",
       "    </tr>\n",
       "  </thead>\n",
       "  <tbody>\n",
       "    <tr>\n",
       "      <th>1</th>\n",
       "      <td>10</td>\n",
       "      <td>-= Nemo =-</td>\n",
       "      <td>2849.2</td>\n",
       "      <td>5.0</td>\n",
       "    </tr>\n",
       "    <tr>\n",
       "      <th>2410013</th>\n",
       "      <td>222880</td>\n",
       "      <td>-= Nemo =-</td>\n",
       "      <td>7.5</td>\n",
       "      <td>2.0</td>\n",
       "    </tr>\n",
       "    <tr>\n",
       "      <th>5342414</th>\n",
       "      <td>361420</td>\n",
       "      <td>-= Nemo =-</td>\n",
       "      <td>9.8</td>\n",
       "      <td>2.0</td>\n",
       "    </tr>\n",
       "    <tr>\n",
       "      <th>6290385</th>\n",
       "      <td>444090</td>\n",
       "      <td>-= Nemo =-</td>\n",
       "      <td>307.8</td>\n",
       "      <td>5.0</td>\n",
       "    </tr>\n",
       "    <tr>\n",
       "      <th>6751543</th>\n",
       "      <td>589290</td>\n",
       "      <td>-= Nemo =-</td>\n",
       "      <td>2.0</td>\n",
       "      <td>1.0</td>\n",
       "    </tr>\n",
       "  </tbody>\n",
       "</table>\n",
       "</div>"
      ],
      "text/plain": [
       "        product_id    username   hours  score\n",
       "1               10  -= Nemo =-  2849.2    5.0\n",
       "2410013     222880  -= Nemo =-     7.5    2.0\n",
       "5342414     361420  -= Nemo =-     9.8    2.0\n",
       "6290385     444090  -= Nemo =-   307.8    5.0\n",
       "6751543     589290  -= Nemo =-     2.0    1.0"
      ]
     },
     "execution_count": 283,
     "metadata": {},
     "output_type": "execute_result"
    }
   ],
   "source": [
    "data_reviews_score.loc[data_reviews_score.username==\"-= Nemo =-\"]"
   ]
  },
  {
   "cell_type": "code",
   "execution_count": 284,
   "metadata": {},
   "outputs": [
    {
     "data": {
      "text/plain": [
       "Prediction(uid='-= Nemo =-', iid='220', r_ui=None, est=2.95820800669494, details={'was_impossible': False})"
      ]
     },
     "execution_count": 284,
     "metadata": {},
     "output_type": "execute_result"
    }
   ],
   "source": [
    "svd.predict(\"-= Nemo =-\",'220')"
   ]
  },
  {
   "cell_type": "code",
   "execution_count": 285,
   "metadata": {},
   "outputs": [
    {
     "data": {
      "text/plain": [
       "Prediction(uid='-= Nemo =-', iid='222880', r_ui=None, est=3.1904958527250376, details={'was_impossible': False})"
      ]
     },
     "execution_count": 285,
     "metadata": {},
     "output_type": "execute_result"
    }
   ],
   "source": [
    "svd.predict(\"-= Nemo =-\",'222880')"
   ]
  },
  {
   "cell_type": "markdown",
   "metadata": {},
   "source": [
    "**Buscamos los usuarios con mayor cantidad de juegos calificados**"
   ]
  },
  {
   "cell_type": "code",
   "execution_count": 286,
   "metadata": {},
   "outputs": [
    {
     "data": {
      "text/html": [
       "<div>\n",
       "<style scoped>\n",
       "    .dataframe tbody tr th:only-of-type {\n",
       "        vertical-align: middle;\n",
       "    }\n",
       "\n",
       "    .dataframe tbody tr th {\n",
       "        vertical-align: top;\n",
       "    }\n",
       "\n",
       "    .dataframe thead th {\n",
       "        text-align: right;\n",
       "    }\n",
       "</style>\n",
       "<table border=\"1\" class=\"dataframe\">\n",
       "  <thead>\n",
       "    <tr style=\"text-align: right;\">\n",
       "      <th></th>\n",
       "      <th>product_id</th>\n",
       "    </tr>\n",
       "    <tr>\n",
       "      <th>username</th>\n",
       "      <th></th>\n",
       "    </tr>\n",
       "  </thead>\n",
       "  <tbody>\n",
       "    <tr>\n",
       "      <th>uid:76561198011965365</th>\n",
       "      <td>1228</td>\n",
       "    </tr>\n",
       "    <tr>\n",
       "      <th>Kodyd194</th>\n",
       "      <td>1049</td>\n",
       "    </tr>\n",
       "    <tr>\n",
       "      <th>uid:76561198094803808</th>\n",
       "      <td>877</td>\n",
       "    </tr>\n",
       "    <tr>\n",
       "      <th>Salarn</th>\n",
       "      <td>763</td>\n",
       "    </tr>\n",
       "    <tr>\n",
       "      <th>mark | dj.</th>\n",
       "      <td>730</td>\n",
       "    </tr>\n",
       "  </tbody>\n",
       "</table>\n",
       "</div>"
      ],
      "text/plain": [
       "                       product_id\n",
       "username                         \n",
       "uid:76561198011965365        1228\n",
       "Kodyd194                     1049\n",
       "uid:76561198094803808         877\n",
       "Salarn                        763\n",
       "mark | dj.                    730"
      ]
     },
     "execution_count": 286,
     "metadata": {},
     "output_type": "execute_result"
    }
   ],
   "source": [
    "data_reviews_score[['username','product_id']].groupby([\"username\"]).count().sort_values('product_id',ascending=False).head()"
   ]
  },
  {
   "cell_type": "code",
   "execution_count": 287,
   "metadata": {},
   "outputs": [
    {
     "data": {
      "text/html": [
       "<div>\n",
       "<style scoped>\n",
       "    .dataframe tbody tr th:only-of-type {\n",
       "        vertical-align: middle;\n",
       "    }\n",
       "\n",
       "    .dataframe tbody tr th {\n",
       "        vertical-align: top;\n",
       "    }\n",
       "\n",
       "    .dataframe thead th {\n",
       "        text-align: right;\n",
       "    }\n",
       "</style>\n",
       "<table border=\"1\" class=\"dataframe\">\n",
       "  <thead>\n",
       "    <tr style=\"text-align: right;\">\n",
       "      <th></th>\n",
       "      <th>product_id</th>\n",
       "      <th>username</th>\n",
       "      <th>hours</th>\n",
       "      <th>score</th>\n",
       "    </tr>\n",
       "  </thead>\n",
       "  <tbody>\n",
       "    <tr>\n",
       "      <th>1969</th>\n",
       "      <td>20</td>\n",
       "      <td>uid:76561198011965365</td>\n",
       "      <td>13.7</td>\n",
       "      <td>4.0</td>\n",
       "    </tr>\n",
       "    <tr>\n",
       "      <th>3708</th>\n",
       "      <td>30</td>\n",
       "      <td>uid:76561198011965365</td>\n",
       "      <td>11.8</td>\n",
       "      <td>3.0</td>\n",
       "    </tr>\n",
       "    <tr>\n",
       "      <th>4630</th>\n",
       "      <td>40</td>\n",
       "      <td>uid:76561198011965365</td>\n",
       "      <td>11.6</td>\n",
       "      <td>5.0</td>\n",
       "    </tr>\n",
       "    <tr>\n",
       "      <th>6494</th>\n",
       "      <td>50</td>\n",
       "      <td>uid:76561198011965365</td>\n",
       "      <td>13.6</td>\n",
       "      <td>4.0</td>\n",
       "    </tr>\n",
       "    <tr>\n",
       "      <th>8654</th>\n",
       "      <td>60</td>\n",
       "      <td>uid:76561198011965365</td>\n",
       "      <td>2.4</td>\n",
       "      <td>4.0</td>\n",
       "    </tr>\n",
       "    <tr>\n",
       "      <th>...</th>\n",
       "      <td>...</td>\n",
       "      <td>...</td>\n",
       "      <td>...</td>\n",
       "      <td>...</td>\n",
       "    </tr>\n",
       "    <tr>\n",
       "      <th>6787830</th>\n",
       "      <td>612880</td>\n",
       "      <td>uid:76561198011965365</td>\n",
       "      <td>23.3</td>\n",
       "      <td>4.0</td>\n",
       "    </tr>\n",
       "    <tr>\n",
       "      <th>6793332</th>\n",
       "      <td>617710</td>\n",
       "      <td>uid:76561198011965365</td>\n",
       "      <td>2.2</td>\n",
       "      <td>3.0</td>\n",
       "    </tr>\n",
       "    <tr>\n",
       "      <th>6806213</th>\n",
       "      <td>635060</td>\n",
       "      <td>uid:76561198011965365</td>\n",
       "      <td>2.1</td>\n",
       "      <td>4.0</td>\n",
       "    </tr>\n",
       "    <tr>\n",
       "      <th>6828398</th>\n",
       "      <td>652980</td>\n",
       "      <td>uid:76561198011965365</td>\n",
       "      <td>0.6</td>\n",
       "      <td>3.0</td>\n",
       "    </tr>\n",
       "    <tr>\n",
       "      <th>6833507</th>\n",
       "      <td>655760</td>\n",
       "      <td>uid:76561198011965365</td>\n",
       "      <td>0.1</td>\n",
       "      <td>1.0</td>\n",
       "    </tr>\n",
       "  </tbody>\n",
       "</table>\n",
       "<p>1228 rows × 4 columns</p>\n",
       "</div>"
      ],
      "text/plain": [
       "        product_id               username  hours  score\n",
       "1969            20  uid:76561198011965365   13.7    4.0\n",
       "3708            30  uid:76561198011965365   11.8    3.0\n",
       "4630            40  uid:76561198011965365   11.6    5.0\n",
       "6494            50  uid:76561198011965365   13.6    4.0\n",
       "8654            60  uid:76561198011965365    2.4    4.0\n",
       "...            ...                    ...    ...    ...\n",
       "6787830     612880  uid:76561198011965365   23.3    4.0\n",
       "6793332     617710  uid:76561198011965365    2.2    3.0\n",
       "6806213     635060  uid:76561198011965365    2.1    4.0\n",
       "6828398     652980  uid:76561198011965365    0.6    3.0\n",
       "6833507     655760  uid:76561198011965365    0.1    1.0\n",
       "\n",
       "[1228 rows x 4 columns]"
      ]
     },
     "execution_count": 287,
     "metadata": {},
     "output_type": "execute_result"
    }
   ],
   "source": [
    "data_reviews_score.loc[data_reviews_score.username==\"uid:76561198011965365\"]"
   ]
  },
  {
   "cell_type": "markdown",
   "metadata": {},
   "source": [
    "# Evaluacion de recomendaciones para un usuario especifico"
   ]
  },
  {
   "cell_type": "markdown",
   "metadata": {},
   "source": [
    "para productos que realmente califico"
   ]
  },
  {
   "cell_type": "code",
   "execution_count": 288,
   "metadata": {},
   "outputs": [
    {
     "data": {
      "text/html": [
       "<div>\n",
       "<style scoped>\n",
       "    .dataframe tbody tr th:only-of-type {\n",
       "        vertical-align: middle;\n",
       "    }\n",
       "\n",
       "    .dataframe tbody tr th {\n",
       "        vertical-align: top;\n",
       "    }\n",
       "\n",
       "    .dataframe thead th {\n",
       "        text-align: right;\n",
       "    }\n",
       "</style>\n",
       "<table border=\"1\" class=\"dataframe\">\n",
       "  <thead>\n",
       "    <tr style=\"text-align: right;\">\n",
       "      <th></th>\n",
       "      <th>product_id</th>\n",
       "      <th>username</th>\n",
       "      <th>hours</th>\n",
       "      <th>score</th>\n",
       "      <th>Estimate_Score</th>\n",
       "      <th>app_name</th>\n",
       "    </tr>\n",
       "  </thead>\n",
       "  <tbody>\n",
       "    <tr>\n",
       "      <th>7</th>\n",
       "      <td>130</td>\n",
       "      <td>uid:76561198011965365</td>\n",
       "      <td>13.4</td>\n",
       "      <td>5.0</td>\n",
       "      <td>4.664375</td>\n",
       "      <td>Half-Life: Blue Shift</td>\n",
       "    </tr>\n",
       "    <tr>\n",
       "      <th>2</th>\n",
       "      <td>40</td>\n",
       "      <td>uid:76561198011965365</td>\n",
       "      <td>11.6</td>\n",
       "      <td>5.0</td>\n",
       "      <td>4.406330</td>\n",
       "      <td>Deathmatch Classic</td>\n",
       "    </tr>\n",
       "    <tr>\n",
       "      <th>6</th>\n",
       "      <td>80</td>\n",
       "      <td>uid:76561198011965365</td>\n",
       "      <td>20.7</td>\n",
       "      <td>4.0</td>\n",
       "      <td>4.139145</td>\n",
       "      <td>Counter-Strike: Condition Zero</td>\n",
       "    </tr>\n",
       "    <tr>\n",
       "      <th>4</th>\n",
       "      <td>60</td>\n",
       "      <td>uid:76561198011965365</td>\n",
       "      <td>2.4</td>\n",
       "      <td>4.0</td>\n",
       "      <td>4.130138</td>\n",
       "      <td>Ricochet</td>\n",
       "    </tr>\n",
       "    <tr>\n",
       "      <th>3</th>\n",
       "      <td>50</td>\n",
       "      <td>uid:76561198011965365</td>\n",
       "      <td>13.6</td>\n",
       "      <td>4.0</td>\n",
       "      <td>3.997642</td>\n",
       "      <td>Half-Life: Opposing Force</td>\n",
       "    </tr>\n",
       "    <tr>\n",
       "      <th>8</th>\n",
       "      <td>280</td>\n",
       "      <td>uid:76561198011965365</td>\n",
       "      <td>13.7</td>\n",
       "      <td>4.0</td>\n",
       "      <td>3.997567</td>\n",
       "      <td>Half-Life: Source</td>\n",
       "    </tr>\n",
       "    <tr>\n",
       "      <th>9</th>\n",
       "      <td>300</td>\n",
       "      <td>uid:76561198011965365</td>\n",
       "      <td>48.2</td>\n",
       "      <td>4.0</td>\n",
       "      <td>3.750034</td>\n",
       "      <td>Day of Defeat: Source</td>\n",
       "    </tr>\n",
       "    <tr>\n",
       "      <th>1</th>\n",
       "      <td>30</td>\n",
       "      <td>uid:76561198011965365</td>\n",
       "      <td>11.8</td>\n",
       "      <td>3.0</td>\n",
       "      <td>3.679255</td>\n",
       "      <td>Day of Defeat</td>\n",
       "    </tr>\n",
       "    <tr>\n",
       "      <th>5</th>\n",
       "      <td>70</td>\n",
       "      <td>uid:76561198011965365</td>\n",
       "      <td>13.7</td>\n",
       "      <td>3.0</td>\n",
       "      <td>3.409013</td>\n",
       "      <td>Half-Life</td>\n",
       "    </tr>\n",
       "    <tr>\n",
       "      <th>0</th>\n",
       "      <td>20</td>\n",
       "      <td>uid:76561198011965365</td>\n",
       "      <td>13.7</td>\n",
       "      <td>4.0</td>\n",
       "      <td>3.286398</td>\n",
       "      <td>Team Fortress Classic</td>\n",
       "    </tr>\n",
       "  </tbody>\n",
       "</table>\n",
       "</div>"
      ],
      "text/plain": [
       "  product_id               username  hours  score  Estimate_Score  \\\n",
       "7        130  uid:76561198011965365   13.4    5.0        4.664375   \n",
       "2         40  uid:76561198011965365   11.6    5.0        4.406330   \n",
       "6         80  uid:76561198011965365   20.7    4.0        4.139145   \n",
       "4         60  uid:76561198011965365    2.4    4.0        4.130138   \n",
       "3         50  uid:76561198011965365   13.6    4.0        3.997642   \n",
       "8        280  uid:76561198011965365   13.7    4.0        3.997567   \n",
       "9        300  uid:76561198011965365   48.2    4.0        3.750034   \n",
       "1         30  uid:76561198011965365   11.8    3.0        3.679255   \n",
       "5         70  uid:76561198011965365   13.7    3.0        3.409013   \n",
       "0         20  uid:76561198011965365   13.7    4.0        3.286398   \n",
       "\n",
       "                         app_name  \n",
       "7           Half-Life: Blue Shift  \n",
       "2              Deathmatch Classic  \n",
       "6  Counter-Strike: Condition Zero  \n",
       "4                        Ricochet  \n",
       "3       Half-Life: Opposing Force  \n",
       "8               Half-Life: Source  \n",
       "9           Day of Defeat: Source  \n",
       "1                   Day of Defeat  \n",
       "5                       Half-Life  \n",
       "0           Team Fortress Classic  "
      ]
     },
     "execution_count": 288,
     "metadata": {},
     "output_type": "execute_result"
    }
   ],
   "source": [
    "username = \"uid:76561198011965365\"\n",
    "recomendaciones_usuario = data_reviews_score.loc[data_reviews_score.username==username]\n",
    "\n",
    "recomendaciones_usuario['Estimate_Score'] = recomendaciones_usuario['product_id'].apply(lambda x: svd.predict(username, x).est)\n",
    "\n",
    "recomendaciones_usuario = pd.merge(recomendaciones_usuario, games_info[['product_id','app_name']], on=\"product_id\")\n",
    "\n",
    "recomendaciones_usuario.head(10).sort_values('Estimate_Score',ascending=False)\n",
    "    "
   ]
  },
  {
   "cell_type": "markdown",
   "metadata": {},
   "source": [
    "Para productos nuevos"
   ]
  },
  {
   "cell_type": "code",
   "execution_count": 289,
   "metadata": {},
   "outputs": [
    {
     "name": "stdout",
     "output_type": "stream",
     "text": [
      "Total de Productos  14152\n",
      "Productos Vistos     1229\n",
      "Productos no vistos 12924\n",
      "Lista de juegos no vistos por el usuario\n"
     ]
    },
    {
     "data": {
      "text/html": [
       "<div>\n",
       "<style scoped>\n",
       "    .dataframe tbody tr th:only-of-type {\n",
       "        vertical-align: middle;\n",
       "    }\n",
       "\n",
       "    .dataframe tbody tr th {\n",
       "        vertical-align: top;\n",
       "    }\n",
       "\n",
       "    .dataframe thead th {\n",
       "        text-align: right;\n",
       "    }\n",
       "</style>\n",
       "<table border=\"1\" class=\"dataframe\">\n",
       "  <thead>\n",
       "    <tr style=\"text-align: right;\">\n",
       "      <th></th>\n",
       "      <th>product_id</th>\n",
       "      <th>Estimate_Score</th>\n",
       "      <th>app_name</th>\n",
       "    </tr>\n",
       "  </thead>\n",
       "  <tbody>\n",
       "    <tr>\n",
       "      <th>4</th>\n",
       "      <td>360</td>\n",
       "      <td>3.740049</td>\n",
       "      <td>Half-Life Deathmatch: Source</td>\n",
       "    </tr>\n",
       "    <tr>\n",
       "      <th>3</th>\n",
       "      <td>320</td>\n",
       "      <td>3.699449</td>\n",
       "      <td>Half-Life 2: Deathmatch</td>\n",
       "    </tr>\n",
       "    <tr>\n",
       "      <th>2</th>\n",
       "      <td>240</td>\n",
       "      <td>3.579665</td>\n",
       "      <td>Counter-Strike: Source</td>\n",
       "    </tr>\n",
       "    <tr>\n",
       "      <th>7</th>\n",
       "      <td>550</td>\n",
       "      <td>3.187182</td>\n",
       "      <td>Left 4 Dead 2</td>\n",
       "    </tr>\n",
       "    <tr>\n",
       "      <th>8</th>\n",
       "      <td>620</td>\n",
       "      <td>3.187182</td>\n",
       "      <td>Portal 2</td>\n",
       "    </tr>\n",
       "    <tr>\n",
       "      <th>9</th>\n",
       "      <td>730</td>\n",
       "      <td>3.187182</td>\n",
       "      <td>Counter-Strike: Global Offensive</td>\n",
       "    </tr>\n",
       "    <tr>\n",
       "      <th>5</th>\n",
       "      <td>400</td>\n",
       "      <td>3.085447</td>\n",
       "      <td>Portal</td>\n",
       "    </tr>\n",
       "    <tr>\n",
       "      <th>0</th>\n",
       "      <td>10</td>\n",
       "      <td>3.033741</td>\n",
       "      <td>Counter-Strike</td>\n",
       "    </tr>\n",
       "    <tr>\n",
       "      <th>1</th>\n",
       "      <td>220</td>\n",
       "      <td>2.947819</td>\n",
       "      <td>Half-Life 2</td>\n",
       "    </tr>\n",
       "    <tr>\n",
       "      <th>6</th>\n",
       "      <td>420</td>\n",
       "      <td>2.789849</td>\n",
       "      <td>Half-Life 2: Episode Two</td>\n",
       "    </tr>\n",
       "  </tbody>\n",
       "</table>\n",
       "</div>"
      ],
      "text/plain": [
       "  product_id  Estimate_Score                          app_name\n",
       "4        360        3.740049      Half-Life Deathmatch: Source\n",
       "3        320        3.699449           Half-Life 2: Deathmatch\n",
       "2        240        3.579665            Counter-Strike: Source\n",
       "7        550        3.187182                     Left 4 Dead 2\n",
       "8        620        3.187182                          Portal 2\n",
       "9        730        3.187182  Counter-Strike: Global Offensive\n",
       "5        400        3.085447                            Portal\n",
       "0         10        3.033741                    Counter-Strike\n",
       "1        220        2.947819                       Half-Life 2\n",
       "6        420        2.789849          Half-Life 2: Episode Two"
      ]
     },
     "execution_count": 289,
     "metadata": {},
     "output_type": "execute_result"
    }
   ],
   "source": [
    "productos_array = data_reviews_score.product_id.unique()\n",
    "#productos_no_vistos = [product_id for product_id in data_reviews_score.product_id.unique() if product_id  not in recomendaciones_usuario.product_id]\n",
    "productos_no_vistos = [product_id for product_id in productos_array if product_id not in recomendaciones_usuario.product_id.values]\n",
    "print('Total de Productos ',len(productos_array))\n",
    "print('Productos Vistos    ', len(recomendaciones_usuario))\n",
    "print('Productos no vistos',len(productos_no_vistos))\n",
    "recomendaciones_usuario_no_visto = pd.DataFrame(productos_no_vistos, columns=['product_id'])\n",
    "\n",
    "recomendaciones_usuario_no_visto['Estimate_Score'] = recomendaciones_usuario_no_visto['product_id'].apply(lambda x: svd.predict(username, x).est)\n",
    "recomendaciones_usuario_no_visto = pd.merge(recomendaciones_usuario_no_visto, games_info[['product_id','app_name']], on=\"product_id\")\n",
    "\n",
    "print('Lista de juegos no vistos por el usuario')\n",
    "recomendaciones_usuario_no_visto.head(10).sort_values('Estimate_Score',ascending=False)\n"
   ]
  },
  {
   "cell_type": "markdown",
   "metadata": {},
   "source": [
    "Como puede verse el sistema funciona bastante bien, ya que tenia calificacion 4 para un juevo visto **Counter-Strike: Condition Zero**\n",
    "    \n",
    "Y le recomienda juegos similares no vistos aun, con una calificacion algo menor:\n",
    "\n",
    "* **Counter-Strike**\n",
    "\n",
    "* **Counter-Strike: Source**\n",
    "\n",
    "Lo mismo ocurre con los visto **Half-Life: Source**(3.7) o **Half-Life**(2.3), que le recomienda con puntaje intermedio entre ambos(2.7) jugar a este nuevo:\n",
    "\n",
    "* **Half-Life 2: Episode Two**\n",
    "\n",
    "Estos valores fueron previamente analizados con un dataset de 3.000.000 de records, pero como los pasos posterioes se tornan demasiado pesados para el modelo de GridSearch, se redujo el analisis a 100.000.\n",
    "Cuando mayor sea la cantidad de datos para inyectar al modelo, mas preciso sera, pero a fines academicos se reduce el mismo con el fin de permitir al procesador culminar el analisis."
   ]
  },
  {
   "cell_type": "markdown",
   "metadata": {},
   "source": [
    "# Evaluacion del sistema SVD, en base al RSME"
   ]
  },
  {
   "cell_type": "code",
   "execution_count": 290,
   "metadata": {},
   "outputs": [
    {
     "name": "stdout",
     "output_type": "stream",
     "text": [
      "RMSE: 1.4056\n"
     ]
    },
    {
     "data": {
      "text/plain": [
       "1.4056091911987156"
      ]
     },
     "execution_count": 290,
     "metadata": {},
     "output_type": "execute_result"
    }
   ],
   "source": [
    "from surprise import accuracy\n",
    "\n",
    "accuracy.rmse(test_predictions)"
   ]
  },
  {
   "cell_type": "markdown",
   "metadata": {},
   "source": [
    "# Optimización de parámetros"
   ]
  },
  {
   "cell_type": "code",
   "execution_count": 291,
   "metadata": {},
   "outputs": [
    {
     "name": "stdout",
     "output_type": "stream",
     "text": [
      "\n",
      "Número de Factores: 1\n",
      "Evaluating RMSE of algorithm SVD on 3 split(s).\n",
      "\n",
      "                  Fold 1  Fold 2  Fold 3  Mean    Std     \n",
      "RMSE (testset)    1.4028  1.4085  1.4143  1.4085  0.0047  \n",
      "Fit time          0.80    0.74    0.79    0.78    0.02    \n",
      "Test time         0.14    0.14    0.15    0.14    0.00    \n",
      "\n",
      "Número de Factores: 2\n",
      "Evaluating RMSE of algorithm SVD on 3 split(s).\n",
      "\n",
      "                  Fold 1  Fold 2  Fold 3  Mean    Std     \n",
      "RMSE (testset)    1.4119  1.4086  1.4151  1.4119  0.0027  \n",
      "Fit time          0.86    0.77    0.82    0.81    0.04    \n",
      "Test time         0.14    0.14    0.14    0.14    0.00    \n",
      "\n",
      "Número de Factores: 4\n",
      "Evaluating RMSE of algorithm SVD on 3 split(s).\n",
      "\n",
      "                  Fold 1  Fold 2  Fold 3  Mean    Std     \n",
      "RMSE (testset)    1.4115  1.4152  1.4046  1.4104  0.0044  \n",
      "Fit time          0.88    0.81    0.88    0.86    0.03    \n",
      "Test time         0.14    0.14    0.15    0.15    0.01    \n",
      "\n",
      "Número de Factores: 8\n",
      "Evaluating RMSE of algorithm SVD on 3 split(s).\n",
      "\n",
      "                  Fold 1  Fold 2  Fold 3  Mean    Std     \n",
      "RMSE (testset)    1.4166  1.4120  1.4099  1.4128  0.0028  \n",
      "Fit time          0.97    1.03    0.96    0.99    0.03    \n",
      "Test time         0.14    0.20    0.14    0.16    0.03    \n",
      "\n",
      "Número de Factores: 16\n",
      "Evaluating RMSE of algorithm SVD on 3 split(s).\n",
      "\n",
      "                  Fold 1  Fold 2  Fold 3  Mean    Std     \n",
      "RMSE (testset)    1.4064  1.4160  1.4108  1.4111  0.0039  \n",
      "Fit time          1.18    1.38    1.15    1.23    0.10    \n",
      "Test time         0.14    0.14    0.14    0.14    0.00    \n",
      "\n",
      "Número de Factores: 32\n",
      "Evaluating RMSE of algorithm SVD on 3 split(s).\n",
      "\n",
      "                  Fold 1  Fold 2  Fold 3  Mean    Std     \n",
      "RMSE (testset)    1.4115  1.4116  1.4158  1.4130  0.0020  \n",
      "Fit time          1.52    1.56    1.69    1.59    0.07    \n",
      "Test time         0.15    0.15    0.15    0.15    0.00    \n",
      "\n",
      "Número de Factores: 64\n",
      "Evaluating RMSE of algorithm SVD on 3 split(s).\n",
      "\n",
      "                  Fold 1  Fold 2  Fold 3  Mean    Std     \n",
      "RMSE (testset)    1.4117  1.4210  1.4127  1.4151  0.0042  \n",
      "Fit time          2.26    2.20    2.21    2.22    0.03    \n",
      "Test time         0.14    0.14    0.14    0.14    0.00    \n",
      "\n",
      "Número de Factores: 128\n",
      "Evaluating RMSE of algorithm SVD on 3 split(s).\n",
      "\n",
      "                  Fold 1  Fold 2  Fold 3  Mean    Std     \n",
      "RMSE (testset)    1.4131  1.4057  1.4154  1.4114  0.0041  \n",
      "Fit time          3.67    3.94    3.82    3.81    0.11    \n",
      "Test time         0.14    0.16    0.15    0.15    0.01    \n",
      "\n",
      "Número de Factores: 256\n",
      "Evaluating RMSE of algorithm SVD on 3 split(s).\n",
      "\n",
      "                  Fold 1  Fold 2  Fold 3  Mean    Std     \n",
      "RMSE (testset)    1.4114  1.4147  1.4148  1.4136  0.0016  \n",
      "Fit time          6.62    6.82    8.23    7.22    0.72    \n",
      "Test time         0.14    0.15    0.16    0.15    0.01    \n"
     ]
    }
   ],
   "source": [
    "from surprise.model_selection import cross_validate\n",
    "\n",
    "rmse_test_means = []\n",
    "factores = [1,2,4,8,16,32,64,128,256]\n",
    "\n",
    "for factor in factores:\n",
    "    print(f'\\nNúmero de Factores: {factor}')\n",
    "    algo = SVD(n_factors=factor)\n",
    "    cv = cross_validate(algo, data, measures=['RMSE'], cv = 3, verbose=True)\n",
    "    rmse_test_means.append(np.mean(cv['test_rmse']))"
   ]
  },
  {
   "cell_type": "code",
   "execution_count": 299,
   "metadata": {},
   "outputs": [
    {
     "data": {
      "image/png": "[encoded data removed]",
      "text/plain": [
       "<Figure size 1800x504 with 1 Axes>"
      ]
     },
     "metadata": {},
     "output_type": "display_data"
    }
   ],
   "source": [
    "plt.figure(figsize=[25,7])\n",
    "plt.scatter(factores, rmse_test_means)\n",
    "plt.xlabel('Numero de factores')\n",
    "plt.ylabel('Error RMSE')\n",
    "plt.xscale('linear')\n",
    "#plt.xlim(0,64)\n",
    "plt.ylim(1.399,1.42)\n",
    "plt.xticks(factores)\n",
    "plt.title('RSME calculado para cada uno de los factores')\n",
    "plt.show()"
   ]
  },
  {
   "cell_type": "code",
   "execution_count": 300,
   "metadata": {},
   "outputs": [
    {
     "name": "stdout",
     "output_type": "stream",
     "text": [
      "El mejor factor en nuestro caso...\n"
     ]
    },
    {
     "data": {
      "text/html": [
       "<div>\n",
       "<style scoped>\n",
       "    .dataframe tbody tr th:only-of-type {\n",
       "        vertical-align: middle;\n",
       "    }\n",
       "\n",
       "    .dataframe tbody tr th {\n",
       "        vertical-align: top;\n",
       "    }\n",
       "\n",
       "    .dataframe thead th {\n",
       "        text-align: right;\n",
       "    }\n",
       "</style>\n",
       "<table border=\"1\" class=\"dataframe\">\n",
       "  <thead>\n",
       "    <tr style=\"text-align: right;\">\n",
       "      <th></th>\n",
       "      <th>factor</th>\n",
       "      <th>RSME</th>\n",
       "    </tr>\n",
       "  </thead>\n",
       "  <tbody>\n",
       "    <tr>\n",
       "      <th>0</th>\n",
       "      <td>1</td>\n",
       "      <td>1.408495</td>\n",
       "    </tr>\n",
       "    <tr>\n",
       "      <th>2</th>\n",
       "      <td>4</td>\n",
       "      <td>1.410434</td>\n",
       "    </tr>\n",
       "    <tr>\n",
       "      <th>4</th>\n",
       "      <td>16</td>\n",
       "      <td>1.411079</td>\n",
       "    </tr>\n",
       "    <tr>\n",
       "      <th>7</th>\n",
       "      <td>128</td>\n",
       "      <td>1.411417</td>\n",
       "    </tr>\n",
       "    <tr>\n",
       "      <th>1</th>\n",
       "      <td>2</td>\n",
       "      <td>1.411861</td>\n",
       "    </tr>\n",
       "    <tr>\n",
       "      <th>3</th>\n",
       "      <td>8</td>\n",
       "      <td>1.412825</td>\n",
       "    </tr>\n",
       "  </tbody>\n",
       "</table>\n",
       "</div>"
      ],
      "text/plain": [
       "   factor      RSME\n",
       "0       1  1.408495\n",
       "2       4  1.410434\n",
       "4      16  1.411079\n",
       "7     128  1.411417\n",
       "1       2  1.411861\n",
       "3       8  1.412825"
      ]
     },
     "execution_count": 300,
     "metadata": {},
     "output_type": "execute_result"
    }
   ],
   "source": [
    "rmse_test_means_df = pd.DataFrame(factores,columns=['factor'])\n",
    "rmse_test_means_df['RSME'] = rmse_test_means\n",
    "print ('El mejor factor en nuestro caso...')\n",
    "best_factor = rmse_test_means_df.sort_values('RSME',ascending=True).head(1).factor.values[0]\n",
    "rmse_test_means_df.sort_values('RSME',ascending=True).head(6)"
   ]
  },
  {
   "cell_type": "markdown",
   "metadata": {},
   "source": [
    "**Primera iteracion de GridSearch**"
   ]
  },
  {
   "cell_type": "code",
   "execution_count": 301,
   "metadata": {},
   "outputs": [],
   "source": [
    "from surprise.model_selection import GridSearchCV\n",
    "\n",
    "param_grid = {'n_factors': [5,50,100,best_factor],'n_epochs': [5, 10,20], 'lr_all': [0.001, 0.002, 0.005],\n",
    "              'reg_all': [0.002, 0.02, 0.2]}\n",
    "gs1 = GridSearchCV(SVD, param_grid, measures=['rmse'], cv=3, n_jobs = -1)\n",
    "gs1.fit(data)"
   ]
  },
  {
   "cell_type": "code",
   "execution_count": 302,
   "metadata": {},
   "outputs": [
    {
     "name": "stdout",
     "output_type": "stream",
     "text": [
      "Best Score 1.4043782123797415\n",
      "Best Params {'n_factors': 1, 'n_epochs': 20, 'lr_all': 0.005, 'reg_all': 0.2}\n"
     ]
    }
   ],
   "source": [
    "print('Best Score', gs1.best_score['rmse'])\n",
    "print('Best Params', gs1.best_params['rmse'])"
   ]
  },
  {
   "cell_type": "markdown",
   "metadata": {},
   "source": [
    "**Intentamos mejorar un poco los parametros subiendo el lr_all**"
   ]
  },
  {
   "cell_type": "code",
   "execution_count": 303,
   "metadata": {},
   "outputs": [],
   "source": [
    "from surprise.model_selection import GridSearchCV\n",
    "\n",
    "param_grid = {'n_factors': [5,50,100,best_factor],'n_epochs': [5, 10,20], 'lr_all': [0.2, 2],\n",
    "              'reg_all': [0.002, 0.02, 0.2]}\n",
    "gs2 = GridSearchCV(SVD, param_grid, measures=['rmse'], cv=3, n_jobs = -1)\n",
    "gs2.fit(data)"
   ]
  },
  {
   "cell_type": "code",
   "execution_count": 304,
   "metadata": {},
   "outputs": [
    {
     "name": "stdout",
     "output_type": "stream",
     "text": [
      "Best Score 1.401873232417244\n",
      "Best Params {'n_factors': 100, 'n_epochs': 20, 'lr_all': 0.2, 'reg_all': 0.02}\n"
     ]
    }
   ],
   "source": [
    "print('Best Score', gs2.best_score['rmse'])\n",
    "print('Best Params', gs2.best_params['rmse'])"
   ]
  },
  {
   "cell_type": "markdown",
   "metadata": {},
   "source": [
    "**Dado que el valor obtenido es no es mejor, buscamos un valor intermedio de lr_all entre gs1 y gs2**"
   ]
  },
  {
   "cell_type": "code",
   "execution_count": 305,
   "metadata": {},
   "outputs": [],
   "source": [
    "from surprise.model_selection import GridSearchCV\n",
    "\n",
    "param_grid = {'n_factors': [5,50,100,best_factor],'n_epochs': [5, 10,20], 'lr_all': [0.2, 0.1,0.05],\n",
    "              'reg_all': [0.1, 0.2]}\n",
    "gs3 = GridSearchCV(SVD, param_grid, measures=['rmse'], cv=3, n_jobs = -1)\n",
    "gs3.fit(data)"
   ]
  },
  {
   "cell_type": "code",
   "execution_count": 306,
   "metadata": {},
   "outputs": [
    {
     "name": "stdout",
     "output_type": "stream",
     "text": [
      "Best Score 1.3970147533104764\n",
      "Best Params {'n_factors': 100, 'n_epochs': 20, 'lr_all': 0.05, 'reg_all': 0.1}\n"
     ]
    }
   ],
   "source": [
    "print('Best Score', gs3.best_score['rmse'])\n",
    "print('Best Params', gs3.best_params['rmse'])"
   ]
  },
  {
   "cell_type": "markdown",
   "metadata": {},
   "source": [
    "**Conclusion**\n",
    "Luego de 3 iteraciones con GridSearch, obtenemos que los mejores parametros para el calculo son los de **gs3**"
   ]
  },
  {
   "cell_type": "markdown",
   "metadata": {},
   "source": [
    "# Pregunta que se pueden responder con el modelo\n",
    "*  De acuerdo a un usuario que vio N productos, cual seria la calificacion que el sistema estima le daria a cada uno de esos productos?\n",
    "*  De acuerdo a un producto visto y sus usuarios, cual es su calificacion media?\n"
   ]
  },
  {
   "cell_type": "markdown",
   "metadata": {},
   "source": [
    "1- **De acuerdo a un usuario que vio N productos, cual seria la calificacion que el sistema estima le daria a cada uno de esos productos?**"
   ]
  },
  {
   "cell_type": "code",
   "execution_count": 307,
   "metadata": {},
   "outputs": [
    {
     "data": {
      "text/html": [
       "<div>\n",
       "<style scoped>\n",
       "    .dataframe tbody tr th:only-of-type {\n",
       "        vertical-align: middle;\n",
       "    }\n",
       "\n",
       "    .dataframe tbody tr th {\n",
       "        vertical-align: top;\n",
       "    }\n",
       "\n",
       "    .dataframe thead th {\n",
       "        text-align: right;\n",
       "    }\n",
       "</style>\n",
       "<table border=\"1\" class=\"dataframe\">\n",
       "  <thead>\n",
       "    <tr style=\"text-align: right;\">\n",
       "      <th></th>\n",
       "      <th>product_id</th>\n",
       "      <th>username</th>\n",
       "      <th>hours</th>\n",
       "      <th>score</th>\n",
       "      <th>Estimate_Score</th>\n",
       "      <th>app_name</th>\n",
       "    </tr>\n",
       "  </thead>\n",
       "  <tbody>\n",
       "    <tr>\n",
       "      <th>7</th>\n",
       "      <td>130</td>\n",
       "      <td>uid:76561198011965365</td>\n",
       "      <td>13.4</td>\n",
       "      <td>5.0</td>\n",
       "      <td>4.664375</td>\n",
       "      <td>Half-Life: Blue Shift</td>\n",
       "    </tr>\n",
       "    <tr>\n",
       "      <th>2</th>\n",
       "      <td>40</td>\n",
       "      <td>uid:76561198011965365</td>\n",
       "      <td>11.6</td>\n",
       "      <td>5.0</td>\n",
       "      <td>4.406330</td>\n",
       "      <td>Deathmatch Classic</td>\n",
       "    </tr>\n",
       "    <tr>\n",
       "      <th>6</th>\n",
       "      <td>80</td>\n",
       "      <td>uid:76561198011965365</td>\n",
       "      <td>20.7</td>\n",
       "      <td>4.0</td>\n",
       "      <td>4.139145</td>\n",
       "      <td>Counter-Strike: Condition Zero</td>\n",
       "    </tr>\n",
       "    <tr>\n",
       "      <th>4</th>\n",
       "      <td>60</td>\n",
       "      <td>uid:76561198011965365</td>\n",
       "      <td>2.4</td>\n",
       "      <td>4.0</td>\n",
       "      <td>4.130138</td>\n",
       "      <td>Ricochet</td>\n",
       "    </tr>\n",
       "    <tr>\n",
       "      <th>3</th>\n",
       "      <td>50</td>\n",
       "      <td>uid:76561198011965365</td>\n",
       "      <td>13.6</td>\n",
       "      <td>4.0</td>\n",
       "      <td>3.997642</td>\n",
       "      <td>Half-Life: Opposing Force</td>\n",
       "    </tr>\n",
       "    <tr>\n",
       "      <th>8</th>\n",
       "      <td>280</td>\n",
       "      <td>uid:76561198011965365</td>\n",
       "      <td>13.7</td>\n",
       "      <td>4.0</td>\n",
       "      <td>3.997567</td>\n",
       "      <td>Half-Life: Source</td>\n",
       "    </tr>\n",
       "    <tr>\n",
       "      <th>9</th>\n",
       "      <td>300</td>\n",
       "      <td>uid:76561198011965365</td>\n",
       "      <td>48.2</td>\n",
       "      <td>4.0</td>\n",
       "      <td>3.750034</td>\n",
       "      <td>Day of Defeat: Source</td>\n",
       "    </tr>\n",
       "    <tr>\n",
       "      <th>1</th>\n",
       "      <td>30</td>\n",
       "      <td>uid:76561198011965365</td>\n",
       "      <td>11.8</td>\n",
       "      <td>3.0</td>\n",
       "      <td>3.679255</td>\n",
       "      <td>Day of Defeat</td>\n",
       "    </tr>\n",
       "    <tr>\n",
       "      <th>5</th>\n",
       "      <td>70</td>\n",
       "      <td>uid:76561198011965365</td>\n",
       "      <td>13.7</td>\n",
       "      <td>3.0</td>\n",
       "      <td>3.409013</td>\n",
       "      <td>Half-Life</td>\n",
       "    </tr>\n",
       "    <tr>\n",
       "      <th>0</th>\n",
       "      <td>20</td>\n",
       "      <td>uid:76561198011965365</td>\n",
       "      <td>13.7</td>\n",
       "      <td>4.0</td>\n",
       "      <td>3.286398</td>\n",
       "      <td>Team Fortress Classic</td>\n",
       "    </tr>\n",
       "  </tbody>\n",
       "</table>\n",
       "</div>"
      ],
      "text/plain": [
       "  product_id               username  hours  score  Estimate_Score  \\\n",
       "7        130  uid:76561198011965365   13.4    5.0        4.664375   \n",
       "2         40  uid:76561198011965365   11.6    5.0        4.406330   \n",
       "6         80  uid:76561198011965365   20.7    4.0        4.139145   \n",
       "4         60  uid:76561198011965365    2.4    4.0        4.130138   \n",
       "3         50  uid:76561198011965365   13.6    4.0        3.997642   \n",
       "8        280  uid:76561198011965365   13.7    4.0        3.997567   \n",
       "9        300  uid:76561198011965365   48.2    4.0        3.750034   \n",
       "1         30  uid:76561198011965365   11.8    3.0        3.679255   \n",
       "5         70  uid:76561198011965365   13.7    3.0        3.409013   \n",
       "0         20  uid:76561198011965365   13.7    4.0        3.286398   \n",
       "\n",
       "                         app_name  \n",
       "7           Half-Life: Blue Shift  \n",
       "2              Deathmatch Classic  \n",
       "6  Counter-Strike: Condition Zero  \n",
       "4                        Ricochet  \n",
       "3       Half-Life: Opposing Force  \n",
       "8               Half-Life: Source  \n",
       "9           Day of Defeat: Source  \n",
       "1                   Day of Defeat  \n",
       "5                       Half-Life  \n",
       "0           Team Fortress Classic  "
      ]
     },
     "execution_count": 307,
     "metadata": {},
     "output_type": "execute_result"
    }
   ],
   "source": [
    "username = \"uid:76561198011965365\"\n",
    "recomendaciones_usuario = data_reviews_score.loc[data_reviews_score.username==username]\n",
    "\n",
    "recomendaciones_usuario['Estimate_Score'] = recomendaciones_usuario['product_id'].apply(lambda x: svd.predict(username, x).est)\n",
    "\n",
    "recomendaciones_usuario = pd.merge(recomendaciones_usuario, games_info[['product_id','app_name']], on=\"product_id\")\n",
    "\n",
    "recomendaciones_usuario.head(10).sort_values('Estimate_Score',ascending=False)\n",
    "    "
   ]
  },
  {
   "cell_type": "markdown",
   "metadata": {},
   "source": [
    "2 **de acuerdo a un producto visto y sus usuarios, cual es su calificacion media?**"
   ]
  },
  {
   "cell_type": "code",
   "execution_count": 308,
   "metadata": {},
   "outputs": [
    {
     "name": "stdout",
     "output_type": "stream",
     "text": [
      "Producto:            Deathmatch Classic\n",
      "Score medio real     2.9661266568483065\n",
      "Score medio estimado 2.9420020355684176\n"
     ]
    }
   ],
   "source": [
    "product_id = '40'\n",
    "recomendaciones_producto = data_reviews_score.loc[data_reviews_score.product_id==product_id]\n",
    "\n",
    "recomendaciones_producto['Estimate_Score'] = recomendaciones_producto['username'].apply(lambda x: svd.predict(x, product_id).est)\n",
    "\n",
    "recomendaciones_producto = pd.merge(recomendaciones_producto, games_info[['product_id','app_name']], on=\"product_id\")\n",
    "\n",
    "recomendaciones_producto.head(10).sort_values('Estimate_Score',ascending=False)\n",
    "print('Producto:           ',recomendaciones_producto.app_name[0])\n",
    "print('Score medio real    ',recomendaciones_producto.score.mean())\n",
    "print('Score medio estimado',recomendaciones_producto.Estimate_Score.mean())\n",
    "    "
   ]
  },
  {
   "cell_type": "code",
   "execution_count": 309,
   "metadata": {},
   "outputs": [
    {
     "name": "stdout",
     "output_type": "stream",
     "text": [
      "Producto:            Half-Life: Source\n",
      "Score medio real     2.9934640522875817\n",
      "Score medio estimado 3.058662530046647\n"
     ]
    }
   ],
   "source": [
    "product_id = '280'\n",
    "recomendaciones_producto = data_reviews_score.loc[data_reviews_score.product_id==product_id]\n",
    "\n",
    "recomendaciones_producto['Estimate_Score'] = recomendaciones_producto['username'].apply(lambda x: svd.predict(x, product_id).est)\n",
    "\n",
    "recomendaciones_producto = pd.merge(recomendaciones_producto, games_info[['product_id','app_name']], on=\"product_id\")\n",
    "\n",
    "recomendaciones_producto.head(10).sort_values('Estimate_Score',ascending=False)\n",
    "print('Producto:           ',recomendaciones_producto.app_name[0])\n",
    "print('Score medio real    ',recomendaciones_producto.score.mean())\n",
    "print('Score medio estimado',recomendaciones_producto.Estimate_Score.mean())\n",
    "    "
   ]
  },
  {
   "cell_type": "code",
   "execution_count": null,
   "metadata": {},
   "outputs": [],
   "source": []
  }
 ],
 "metadata": {
  "colab": {
   "collapsed_sections": [],
   "name": "DS_Proyecto_03_SR.ipynb",
   "provenance": []
  },
  "kernelspec": {
   "display_name": "Python 3",
   "language": "python",
   "name": "python3"
  },
  "language_info": {
   "codemirror_mode": {
    "name": "ipython",
    "version": 3
   },
   "file_extension": ".py",
   "mimetype": "text/x-python",
   "name": "python",
   "nbconvert_exporter": "python",
   "pygments_lexer": "ipython3",
   "version": "3.9.4"
  }
 },
 "nbformat": 4,
 "nbformat_minor": 1
}
